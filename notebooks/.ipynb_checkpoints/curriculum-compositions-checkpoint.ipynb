{
 "cells": [
  {
   "cell_type": "code",
   "execution_count": 1,
   "metadata": {},
   "outputs": [],
   "source": [
    "%load_ext autoreload\n",
    "%autoreload 2"
   ]
  },
  {
   "cell_type": "code",
   "execution_count": 6,
   "metadata": {},
   "outputs": [],
   "source": [
    "import numpy as np\n",
    "import matplotlib.pyplot as plt\n",
    "_include_('curriculum_vqa')"
   ]
  },
  {
   "cell_type": "code",
   "execution_count": 8,
   "metadata": {},
   "outputs": [
    {
     "name": "stdout",
     "output_type": "stream",
     "text": [
      "{'color': 'blue', 'location': [0.65, 0.3], 'shape': 'circle', 'size': 0.08}\n",
      "[   {   'concept': 'color_yes_no',\n",
      "        'prompt': 'This is a not a red item.',\n",
      "        'target': 'Right'}]\n"
     ]
    }
   ],
   "source": [
    "from cvqa.curriculum import plotter, VQAInstanceDistribution\n",
    "\n",
    "vqa_dist = VQAInstanceDistribution()\n",
    "vizrep = vqa_dist.sample_viz_rep()\n",
    "s = vqa_dist.sample_prompt(vizrep)\n",
    "\n",
    "import pprint\n",
    "pp = pprint.PrettyPrinter(indent=4)\n",
    "pp.pprint(vizrep)\n",
    "pp.pprint(s)"
   ]
  },
  {
   "cell_type": "code",
   "execution_count": 14,
   "metadata": {},
   "outputs": [],
   "source": [
    "vizreps = []\n",
    "for i in range(7):\n",
    "    vizreps.append(vqa_dist.sample_viz_rep())"
   ]
  },
  {
   "cell_type": "markdown",
   "metadata": {},
   "source": [
    "# Compositional Generalization"
   ]
  },
  {
   "cell_type": "markdown",
   "metadata": {},
   "source": [
    "* {Triangle, Circle, Square} < Object\n",
    "* (Object is Blue + Object is Triangle) ==> Triangle is blue\n",
    "* (Box contains triangle + triangle is blue) ==> Box contains something blue\n",
    "* (Circle is touching the triangle + A triangle is an object) ==> There is an object touching the circle\n",
    "* (Box contains rectangle + rectangle is not a triangle) ==> Box does not contain triangle\n",
    "* (Box contains circle + circle is touching the triangle) ==> The object in the box is touching the triangle"
   ]
  },
  {
   "cell_type": "markdown",
   "metadata": {},
   "source": [
    "* {Triangle, Circle, Square} < Object\n",
    "* (Object is Blue + Object is Triangle) ==> Triangle is Blue\n",
    "* (Box contains triangle + triangle is blue) ==> Box contains something blue\n",
    "* (Circle is touching the triangle + A triangle is an object) ==> There is an object touching the circle\n",
    "* (Box contains rectangle + rectangle is not a triangle) ==> Box does not contain triangle\n",
    "* (Box contains circle + circle is touching the triangle) ==> The object in the box is touching the triangle"
   ]
  },
  {
   "cell_type": "markdown",
   "metadata": {},
   "source": [
    "* A is B + B is C ==> A is C\n",
    "* A contains C + C is B ==> A contains C"
   ]
  },
  {
   "cell_type": "markdown",
   "metadata": {},
   "source": [
    "### What size is the cylinder that is left of the brown metal thing that is left of the big sphere?\n",
    "### What size is the A that is left of the X Y K that is left of the Z C?\n",
    "\n",
    "* What size is A\n",
    "* A is left of B\n",
    "* B has_attr X\n",
    "* B has_attr Y\n",
    "* B is a K\n",
    "* B is left of C\n",
    "* C has_attr Z"
   ]
  },
  {
   "cell_type": "markdown",
   "metadata": {},
   "source": [
    "### This is a box with multiple items and the two are black.\n",
    "\n",
    "* This is a box\n",
    "* These are multiple items\n",
    "* These are two items\n",
    "* This is a black item\n",
    "* This box contains this item."
   ]
  },
  {
   "cell_type": "markdown",
   "metadata": {},
   "source": [
    "### This is a box with a triangle and two black items.\n",
    "\n",
    "* This is a box\n",
    "* This is a triangle\n",
    "* These are two items\n",
    "* This is a black item\n",
    "* This box contains this item."
   ]
  },
  {
   "cell_type": "markdown",
   "metadata": {},
   "source": [
    "### Logical Operators\n",
    "\n",
    "* True and False ==> False\n",
    "* not True ==> False\n",
    "* not False ==> True\n",
    "* True or False ==> True"
   ]
  },
  {
   "cell_type": "markdown",
   "metadata": {},
   "source": [
    "## Higher Order Compositions"
   ]
  },
  {
   "cell_type": "markdown",
   "metadata": {},
   "source": [
    "* A contains B + B contains C ==> A contains C"
   ]
  },
  {
   "cell_type": "code",
   "execution_count": 20,
   "metadata": {},
   "outputs": [],
   "source": [
    "import json\n",
    "\n",
    "with open('/Users/urisherman/Downloads/sceneGraphs/val_sceneGraphs.json') as f:\n",
    "    data = json.load(f)\n",
    "    "
   ]
  },
  {
   "cell_type": "code",
   "execution_count": 31,
   "metadata": {},
   "outputs": [],
   "source": [
    "objects = ['box', 'table', 'chair', 'sphere', 'frisbee']\n",
    "colors = ['red', 'blue', 'green']\n",
    "material = ['wooden', 'plastic', 'metal']\n",
    "relations = ['touching', 'near', 'on', 'contains']"
   ]
  },
  {
   "cell_type": "code",
   "execution_count": 34,
   "metadata": {},
   "outputs": [],
   "source": [
    "g = {\n",
    "    'objects': {\n",
    "        '1': {\n",
    "            'name': 'box',\n",
    "            'attributes': {\n",
    "                'color': 'red',\n",
    "                'material': 'wooden'\n",
    "            },\n",
    "            'relations': [ \n",
    "                { 'name': 'touching', 'object': '2'}\n",
    "            ]\n",
    "        },\n",
    "        '2': {\n",
    "            'name': 'table',\n",
    "            'attributes': {\n",
    "                'color': 'red',\n",
    "                'material': 'wooden'\n",
    "            },\n",
    "            'relations': [ \n",
    "                { 'name': 'touching', 'object': '1'}\n",
    "            ]\n",
    "        }\n",
    "    }\n",
    "}"
   ]
  },
  {
   "cell_type": "code",
   "execution_count": 35,
   "metadata": {},
   "outputs": [],
   "source": [
    "# IDENTIFY\n",
    "# [1] is a box\n",
    "# [2] is a table\n",
    "\n",
    "\n",
    "# COUNT\n",
    "# [1,2] are two items\n",
    "\n",
    "# ATTRIBUTE\n",
    "# [1] is red\n",
    "# [1] is wooden\n",
    "\n",
    "\n",
    "# RELATIONS\n",
    "# [1] is touching [2]\n",
    "# [2] is touching [1]\n",
    "\n"
   ]
  },
  {
   "cell_type": "code",
   "execution_count": null,
   "metadata": {},
   "outputs": [],
   "source": [
    "# COMPOSITIONS\n",
    "\n"
   ]
  },
  {
   "cell_type": "code",
   "execution_count": 27,
   "metadata": {},
   "outputs": [
    {
     "name": "stdout",
     "output_type": "stream",
     "text": [
      "{ 'height': 500,\n",
      "  'objects': { '227256': { 'attributes': ['crouched'],\n",
      "                           'h': 278,\n",
      "                           'name': 'man',\n",
      "                           'relations': [ { 'name': 'reading',\n",
      "                                            'object': '227257'},\n",
      "                                          { 'name': 'wearing',\n",
      "                                            'object': '227263'},\n",
      "                                          { 'name': 'wearing',\n",
      "                                            'object': '227258'},\n",
      "                                          { 'name': 'wearing',\n",
      "                                            'object': '227262'},\n",
      "                                          { 'name': 'holding',\n",
      "                                            'object': '227257'},\n",
      "                                          {'name': 'on', 'object': '227261'},\n",
      "                                          { 'name': 'to the right of',\n",
      "                                            'object': '227260'},\n",
      "                                          {'name': 'in', 'object': '227261'},\n",
      "                                          { 'name': 'to the right of',\n",
      "                                            'object': '227273'},\n",
      "                                          { 'name': 'to the right of',\n",
      "                                            'object': '227267'},\n",
      "                                          { 'name': 'wearing',\n",
      "                                            'object': '227264'}],\n",
      "                           'w': 160,\n",
      "                           'x': 133,\n",
      "                           'y': 57},\n",
      "               '227257': { 'attributes': ['open'],\n",
      "                           'h': 40,\n",
      "                           'name': 'book',\n",
      "                           'relations': [ { 'name': 'to the right of',\n",
      "                                            'object': '227260'},\n",
      "                                          { 'name': 'to the right of',\n",
      "                                            'object': '227267'}],\n",
      "                           'w': 57,\n",
      "                           'x': 133,\n",
      "                           'y': 164},\n",
      "               '227258': { 'attributes': ['black'],\n",
      "                           'h': 21,\n",
      "                           'name': 'eye glasses',\n",
      "                           'relations': [ { 'name': 'to the right of',\n",
      "                                            'object': '227260'},\n",
      "                                          { 'name': 'to the right of',\n",
      "                                            'object': '227273'}],\n",
      "                           'w': 26,\n",
      "                           'x': 198,\n",
      "                           'y': 108},\n",
      "               '227259': { 'attributes': ['metal', 'gray'],\n",
      "                           'h': 241,\n",
      "                           'name': 'floor',\n",
      "                           'relations': [],\n",
      "                           'w': 289,\n",
      "                           'x': 27,\n",
      "                           'y': 258},\n",
      "               '227260': { 'attributes': ['open'],\n",
      "                           'h': 354,\n",
      "                           'name': 'door',\n",
      "                           'relations': [ { 'name': 'to the left of',\n",
      "                                            'object': '227263'},\n",
      "                                          { 'name': 'to the left of',\n",
      "                                            'object': '227257'},\n",
      "                                          { 'name': 'to the left of',\n",
      "                                            'object': '227274'},\n",
      "                                          { 'name': 'to the left of',\n",
      "                                            'object': '227264'},\n",
      "                                          { 'name': 'to the left of',\n",
      "                                            'object': '227258'},\n",
      "                                          { 'name': 'to the left of',\n",
      "                                            'object': '227262'},\n",
      "                                          { 'name': 'to the left of',\n",
      "                                            'object': '227276'},\n",
      "                                          { 'name': 'to the left of',\n",
      "                                            'object': '227256'},\n",
      "                                          { 'name': 'to the left of',\n",
      "                                            'object': '227269'},\n",
      "                                          { 'name': 'to the left of',\n",
      "                                            'object': '227270'}],\n",
      "                           'w': 105,\n",
      "                           'x': 42,\n",
      "                           'y': 0},\n",
      "               '227261': { 'attributes': [],\n",
      "                           'h': 492,\n",
      "                           'name': 'train car',\n",
      "                           'relations': [],\n",
      "                           'w': 366,\n",
      "                           'x': 8,\n",
      "                           'y': 4},\n",
      "               '227262': { 'attributes': ['brown', 'striped', 'long sleeved'],\n",
      "                           'h': 158,\n",
      "                           'name': 'shirt',\n",
      "                           'relations': [ { 'name': 'to the right of',\n",
      "                                            'object': '227267'},\n",
      "                                          { 'name': 'to the right of',\n",
      "                                            'object': '227270'},\n",
      "                                          { 'name': 'to the right of',\n",
      "                                            'object': '227260'}],\n",
      "                           'w': 147,\n",
      "                           'x': 154,\n",
      "                           'y': 126},\n",
      "               '227263': { 'attributes': [],\n",
      "                           'h': 34,\n",
      "                           'name': 'sandals',\n",
      "                           'relations': [ { 'name': 'to the right of',\n",
      "                                            'object': '227260'}],\n",
      "                           'w': 80,\n",
      "                           'x': 175,\n",
      "                           'y': 294},\n",
      "               '227264': { 'attributes': ['dark'],\n",
      "                           'h': 91,\n",
      "                           'name': 'pants',\n",
      "                           'relations': [ { 'name': 'to the right of',\n",
      "                                            'object': '227260'}],\n",
      "                           'w': 132,\n",
      "                           'x': 138,\n",
      "                           'y': 210},\n",
      "               '227267': { 'attributes': [],\n",
      "                           'h': 67,\n",
      "                           'name': 'lock',\n",
      "                           'relations': [ { 'name': 'to the left of',\n",
      "                                            'object': '227270'},\n",
      "                                          { 'name': 'to the left of',\n",
      "                                            'object': '227262'},\n",
      "                                          { 'name': 'to the left of',\n",
      "                                            'object': '227256'},\n",
      "                                          { 'name': 'to the left of',\n",
      "                                            'object': '227257'}],\n",
      "                           'w': 77,\n",
      "                           'x': 43,\n",
      "                           'y': 152},\n",
      "               '227269': { 'attributes': [],\n",
      "                           'h': 87,\n",
      "                           'name': 'head',\n",
      "                           'relations': [ { 'name': 'to the right of',\n",
      "                                            'object': '227273'},\n",
      "                                          { 'name': 'to the right of',\n",
      "                                            'object': '227260'}],\n",
      "                           'w': 64,\n",
      "                           'x': 196,\n",
      "                           'y': 59},\n",
      "               '227270': { 'attributes': [],\n",
      "                           'h': 22,\n",
      "                           'name': 'hands',\n",
      "                           'relations': [ { 'name': 'to the right of',\n",
      "                                            'object': '227260'},\n",
      "                                          { 'name': 'to the left of',\n",
      "                                            'object': '227262'},\n",
      "                                          { 'name': 'to the right of',\n",
      "                                            'object': '227267'}],\n",
      "                           'w': 19,\n",
      "                           'x': 141,\n",
      "                           'y': 179},\n",
      "               '227273': { 'attributes': [],\n",
      "                           'h': 127,\n",
      "                           'name': 'window',\n",
      "                           'relations': [ { 'name': 'to the left of',\n",
      "                                            'object': '227256'},\n",
      "                                          { 'name': 'to the left of',\n",
      "                                            'object': '227269'},\n",
      "                                          { 'name': 'to the left of',\n",
      "                                            'object': '227276'},\n",
      "                                          { 'name': 'to the left of',\n",
      "                                            'object': '227258'}],\n",
      "                           'w': 41,\n",
      "                           'x': 85,\n",
      "                           'y': 1},\n",
      "               '227274': { 'attributes': [],\n",
      "                           'h': 63,\n",
      "                           'name': 'seat',\n",
      "                           'relations': [ { 'name': 'to the right of',\n",
      "                                            'object': '227260'}],\n",
      "                           'w': 154,\n",
      "                           'x': 151,\n",
      "                           'y': 283},\n",
      "               '227276': { 'attributes': ['green'],\n",
      "                           'h': 77,\n",
      "                           'name': 'trees',\n",
      "                           'relations': [ { 'name': 'to the right of',\n",
      "                                            'object': '227260'},\n",
      "                                          { 'name': 'to the right of',\n",
      "                                            'object': '227273'}],\n",
      "                           'w': 61,\n",
      "                           'x': 217,\n",
      "                           'y': 8}},\n",
      "  'width': 375}\n"
     ]
    }
   ],
   "source": [
    "from pprint import PrettyPrinter\n",
    "\n",
    "keys = list(data.keys())\n",
    "\n",
    "PrettyPrinter(indent=2).pprint(data[keys[2]])"
   ]
  },
  {
   "cell_type": "code",
   "execution_count": null,
   "metadata": {},
   "outputs": [],
   "source": [
    "{\n",
    "    '1': {\n",
    "        'identity': 'box',\n",
    "        'color': 'blue',\n",
    "        'shape': 'square'\n",
    "        'material': 'metal'\n",
    "    }\n",
    "    '2': {\n",
    "        'identity': 'circle',\n",
    "        'color': 'red',\n",
    "        'shape': 'circle'\n",
    "        'material': 'rubber'\n",
    "    } \n",
    "}\n",
    "\n",
    "edges = {\n",
    "    '1': [('2', 'contains')],\n",
    "    ''\n",
    "}"
   ]
  }
 ],
 "metadata": {
  "kernelspec": {
   "display_name": "curriculum_vqa",
   "language": "python",
   "name": "curriculum_vqa"
  },
  "language_info": {
   "codemirror_mode": {
    "name": "ipython",
    "version": 3
   },
   "file_extension": ".py",
   "mimetype": "text/x-python",
   "name": "python",
   "nbconvert_exporter": "python",
   "pygments_lexer": "ipython3",
   "version": "3.8.1"
  }
 },
 "nbformat": 4,
 "nbformat_minor": 4
}
