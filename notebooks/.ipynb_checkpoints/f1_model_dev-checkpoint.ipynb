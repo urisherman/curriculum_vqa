{
 "cells": [
  {
   "cell_type": "code",
   "execution_count": 1,
   "metadata": {},
   "outputs": [],
   "source": [
    "%load_ext autoreload\n",
    "%autoreload 2"
   ]
  },
  {
   "cell_type": "code",
   "execution_count": 2,
   "metadata": {},
   "outputs": [
    {
     "name": "stderr",
     "output_type": "stream",
     "text": [
      "Img Encoder: Loss=0.000: 100%|██████████| 10/10 [00:03<00:00,  2.92it/s]\n"
     ]
    }
   ],
   "source": [
    "_include_('curriculum_vqa')\n",
    "\n",
    "from cvqa.curriculum import plotter, VQAInstanceDistribution2\n",
    "from cvqa import trainers, datasets, viz\n",
    "\n",
    "concept_dict = {\n",
    "        'color': ['blue', 'brown', 'cyan', 'gray'],  # , 'green', 'purple', 'red', 'yellow'],\n",
    "        'material': ['metal', 'rubber', 'plastic'],\n",
    "        'shape': ['triangle', 'circle', 'square']\n",
    "    }\n",
    "\n",
    "# vqa_dist = VQAInstanceDistribution2(concept_dict=concept_dict, prompt_types_filter=['retrieve_attribute'], d_img=16)\n",
    "# vqa_dist = VQAInstanceDistribution2(concept_dict=concept_dict, prompt_types_filter=['exists', 'retrieve_attribute'], d_img=16)\n",
    "vqa_dist = VQAInstanceDistribution2(concept_dict=concept_dict, d_img=24)"
   ]
  },
  {
   "cell_type": "code",
   "execution_count": 3,
   "metadata": {},
   "outputs": [],
   "source": [
    "# ds_temp = vqa_dist.sample_dataset(images=20, prompts_per_image=3)\n",
    "# VQAInstanceDistribution2.to_debug_rep(ds_temp)"
   ]
  },
  {
   "cell_type": "code",
   "execution_count": 4,
   "metadata": {},
   "outputs": [
    {
     "data": {
      "text/plain": [
       "Root: - \n",
       "Samples: 869 (N_prompt=9, N_target=1)\n",
       "Concepts: 0 \n",
       "Classes: 0 \n",
       "Prompt Vocab Tokens:43 \n",
       "Answer Vocab Tokens:21 "
      ]
     },
     "execution_count": 4,
     "metadata": {},
     "output_type": "execute_result"
    }
   ],
   "source": [
    "import random\n",
    "import numpy as np\n",
    "import torch\n",
    "import torch.nn as nn\n",
    "\n",
    "seed = 1\n",
    "random.seed(seed)\n",
    "np.random.seed(seed)\n",
    "torch.manual_seed(seed)\n",
    "\n",
    "ds_train, ds_dev = datasets.Curriculum.from_samples(\n",
    "    vqa_dist.sample_dataset(images=300, prompts_per_image=5),\n",
    "    vqa_dist.sample_dataset(images=100, prompts_per_image=5),\n",
    ")\n",
    "\n",
    "ds_train"
   ]
  },
  {
   "cell_type": "code",
   "execution_count": 5,
   "metadata": {},
   "outputs": [],
   "source": [
    "trainer = trainers.VQATrainer(loss_fn=nn.NLLLoss(ignore_index=-1), pred_target='target_attention_mask', ignore_index=-1)\n",
    "\n",
    "def train_model(model, lr=1e-4, epochs=10, batch_size=32):\n",
    "    \n",
    "    optimizer = torch.optim.Adam(model.parameters(), lr=lr)\n",
    "#     scheduler = torch.optim.lr_scheduler.StepLR(optimizer, step_size=300, gamma=0.1)\n",
    "    \n",
    "    train_loss, train_acc, dev_acc = trainer.train(\n",
    "        model, ds_train, ds_dev, \n",
    "        optimizer, \n",
    "#         optim_sched=scheduler,\n",
    "        num_epochs=epochs, \n",
    "        batch_size=batch_size\n",
    "    )\n",
    "    \n",
    "    return {\n",
    "        'train_loss': train_loss, \n",
    "        'train_acc': train_acc, \n",
    "        'dev_acc': dev_acc\n",
    "    }"
   ]
  },
  {
   "cell_type": "code",
   "execution_count": 6,
   "metadata": {},
   "outputs": [
    {
     "name": "stdout",
     "output_type": "stream",
     "text": [
      "0.6813122437024018\n"
     ]
    }
   ],
   "source": [
    "import numpy as np\n",
    "from cvqa.model_dev import f1_model\n",
    "\n",
    "seed = 1\n",
    "np.random.seed(seed)\n",
    "torch.manual_seed(seed)\n",
    "\n",
    "args = f1_model.default_args()\n",
    "args['d_a'] = 4\n",
    "args['d_w'] = args['d_c'] = 24\n",
    "args['d_o'] = 24\n",
    "args['d_k'] = 8\n",
    "    \n",
    "model = f1_model.ParentModel(ds_train.vocab, ds_train.ans_vocab, args)\n",
    "\n",
    "print(trainer.evaluate(model, torch.utils.data.DataLoader(ds_train, batch_size=32)))"
   ]
  },
  {
   "cell_type": "code",
   "execution_count": 7,
   "metadata": {},
   "outputs": [
    {
     "name": "stderr",
     "output_type": "stream",
     "text": [
      "[epoch=49, steps=1588, train_acc=0.78, dev_acc=0.79] loss: nan: 100%|██████████| 50/50 [00:18<00:00,  2.72it/s]\n"
     ]
    }
   ],
   "source": [
    "train_metrics = train_model(model, lr=1e-2, epochs=50, batch_size=32)"
   ]
  },
  {
   "cell_type": "code",
   "execution_count": 8,
   "metadata": {},
   "outputs": [
    {
     "name": "stdout",
     "output_type": "stream",
     "text": [
      "0.785828025477707\n"
     ]
    },
    {
     "data": {
      "image/png": "[encoded data removed]",
      "text/plain": [
       "<Figure size 1080x432 with 2 Axes>"
      ]
     },
     "metadata": {
      "needs_background": "light"
     },
     "output_type": "display_data"
    }
   ],
   "source": [
    "print(trainer.evaluate(model, torch.utils.data.DataLoader(ds_dev, batch_size=32)))\n",
    "viz.plot_training(**train_metrics)"
   ]
  },
  {
   "cell_type": "code",
   "execution_count": 16,
   "metadata": {},
   "outputs": [],
   "source": [
    "# y_true, y_pred = trainer.get_predictions(model, ds_dev)\n",
    "# viz.one_word_conf_mat(y_true, y_pred, ds_dev.ans_vocab)"
   ]
  },
  {
   "cell_type": "code",
   "execution_count": null,
   "metadata": {},
   "outputs": [],
   "source": []
  }
 ],
 "metadata": {
  "kernelspec": {
   "display_name": "curriculum_vqa",
   "language": "python",
   "name": "curriculum_vqa"
  },
  "language_info": {
   "codemirror_mode": {
    "name": "ipython",
    "version": 3
   },
   "file_extension": ".py",
   "mimetype": "text/x-python",
   "name": "python",
   "nbconvert_exporter": "python",
   "pygments_lexer": "ipython3",
   "version": "3.8.1"
  }
 },
 "nbformat": 4,
 "nbformat_minor": 4
}
