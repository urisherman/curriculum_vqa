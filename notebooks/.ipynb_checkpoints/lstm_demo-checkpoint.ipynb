{
 "cells": [
  {
   "cell_type": "code",
   "execution_count": 1,
   "metadata": {},
   "outputs": [],
   "source": [
    "import torch\n",
    "import torch.nn as nn\n",
    "import torch.nn.functional as F\n",
    "\n",
    "import random\n",
    "import numpy as np"
   ]
  },
  {
   "cell_type": "code",
   "execution_count": 2,
   "metadata": {},
   "outputs": [
    {
     "name": "stdout",
     "output_type": "stream",
     "text": [
      "torch.Size([9, 3, 32])\n",
      "torch.Size([2, 3, 32])\n",
      "torch.Size([2, 3, 32])\n"
     ]
    }
   ],
   "source": [
    "L, d_model, d_h = 2, 16, 32\n",
    "\n",
    "lstm = nn.LSTM(input_size=d_model, hidden_size=d_h, num_layers=L)\n",
    "\n",
    "N_seq, B = 9, 3\n",
    "\n",
    "X = torch.rand(N_seq, B, d_model)\n",
    "h_0 = torch.zeros(L, B, d_h)\n",
    "c_0 = torch.zeros(L, B, d_h)\n",
    "\n",
    "out, (h_n, c_n) = lstm(X, (h_0, c_0))\n",
    "\n",
    "print(out.shape)\n",
    "print(h_n.shape)\n",
    "print(c_n.shape)"
   ]
  },
  {
   "cell_type": "code",
   "execution_count": 3,
   "metadata": {},
   "outputs": [],
   "source": [
    "class Seq2SeqLSTM(nn.Module):\n",
    "\n",
    "    def __init__(self, vocab_X, vocab_Y, d_input=16, d_target=16, d_h=16, num_layers=2):\n",
    "        super().__init__()\n",
    "        self.vocab_X = vocab_X\n",
    "        self.vocab_Y = vocab_Y\n",
    "        self.d_h = d_h\n",
    "        self.num_layers = num_layers\n",
    "\n",
    "        self.E_input = nn.Embedding(vocab_X.N_tokens, d_input)\n",
    "        self.encoder_lstm = nn.LSTM(d_input, d_h, num_layers=num_layers)\n",
    "        self.decoder_lstm = nn.LSTM(d_target, d_h, num_layers=num_layers)\n",
    "        self.W_o = nn.Linear(d_h, d_target)\n",
    "        self.E_target = nn.Embedding(vocab_Y.N_tokens, d_target)\n",
    "\n",
    "    def init_hiddens(self, B):\n",
    "        h_0 = torch.zeros(self.num_layers, B, self.d_h)\n",
    "        c_0 = torch.zeros(self.num_layers, B, self.d_h)\n",
    "        return h_0, c_0\n",
    "\n",
    "    def forward(self, X, decoder_input, decoder_hidden_state=None):\n",
    "        \"\"\"\n",
    "        X: [B, N_seq]\n",
    "        target: [B, N_seq_t]\n",
    "\n",
    "        returns logits for target tokens: [B, N_seq_t, V_target]\n",
    "        \"\"\"\n",
    "        B, N_seq = X.shape\n",
    "        if decoder_hidden_state is None:\n",
    "            X_embed = self.E_input(X)\n",
    "            X_embed = X_embed.transpose(0, 1)  # [N_seq, B, d_input]\n",
    "\n",
    "            h_0, c_0 = self.init_hiddens(B)\n",
    "            encoder_out, (enc_h_n, enc_c_n) = self.encoder_lstm(X_embed, (h_0, c_0))\n",
    "            decoder_hidden_state = (enc_h_n, enc_c_n)\n",
    "\n",
    "        target_embed = self.E_target(decoder_input)\n",
    "        target_embed = target_embed.transpose(0, 1)\n",
    "        decoder_out, decoder_hidden_state = self.decoder_lstm(target_embed, decoder_hidden_state)\n",
    "\n",
    "        # decoder_out: [N_seq_t, B, d_h]\n",
    "        decoder_out = decoder_out.transpose(0, 1)\n",
    "        pred_target_vecs = self.W_o(decoder_out)\n",
    "        logits = F.linear(pred_target_vecs, self.E_target.weight)\n",
    "\n",
    "        return logits, decoder_hidden_state\n",
    "\n",
    "\n",
    "def autoregressive_decode(X, model, bos, eos, max_len=20):\n",
    "    B, N_seq = X.shape\n",
    "    bos_tokens = torch.ones(B, 1, dtype=torch.long) * bos\n",
    "    y_pred = [bos_tokens]\n",
    "    logits = []\n",
    "    decode_state = None\n",
    "    for t in range(max_len):\n",
    "        y_next_logit, decode_state = model(X, y_pred[-1], decode_state)\n",
    "        _, y_next_token = torch.max(y_next_logit, axis=-1)\n",
    "        logits.append(y_next_logit)\n",
    "        y_pred.append(y_next_token)\n",
    "        if y_next_token == eos:\n",
    "            break\n",
    "\n",
    "    return torch.cat(logits, dim=1), torch.cat(y_pred[1:], dim=1)"
   ]
  },
  {
   "cell_type": "code",
   "execution_count": 4,
   "metadata": {},
   "outputs": [],
   "source": [
    "class Vocabulary(object):\n",
    "    \n",
    "    def __init__(self, d_embed=16):\n",
    "        self.unk = 0\n",
    "        self.pad = 1\n",
    "        self.bos = 2\n",
    "        self.eos = 3\n",
    "        self.tokens = {\n",
    "            '<unk>': self.unk,\n",
    "            '<pad>': self.pad,\n",
    "            '<s>': self.bos,\n",
    "            '</s>': self.eos,\n",
    "        }\n",
    "        self.idxs = None\n",
    "        self.building = True\n",
    "        self.d_embed = d_embed\n",
    "        \n",
    "    def __len__(self):\n",
    "        return len(self.tokens)\n",
    "    \n",
    "    def build(self):\n",
    "        self.building = False\n",
    "        self.idxs = {v: k for k, v in self.tokens.items()}\n",
    "        self.N_tokens = len(self)\n",
    "        \n",
    "    def encode(self, tokens):\n",
    "        ret = []\n",
    "        for t in tokens:\n",
    "            ret.append(self.encode_symbol(t))\n",
    "        return ret\n",
    "    \n",
    "    def encode_symbol(self, token):\n",
    "        ret = self.tokens.get(token, self.unk)\n",
    "        if ret == self.unk and self.building:\n",
    "            ret = len(self.tokens)\n",
    "            self.tokens[token] = ret\n",
    "        return ret\n",
    "    \n",
    "    def all_tokens(self):\n",
    "        return list(self.tokens.keys())[3:]\n",
    "    \n",
    "    def decode(self, tokens):\n",
    "        if type(tokens) == torch.Tensor:\n",
    "            tokens = list(tokens.numpy().squeeze())\n",
    "        if type(tokens) == np.ndarray:\n",
    "            tokens = list(tokens.squeeze())\n",
    "            \n",
    "        if type(tokens) == list:\n",
    "            return [self.idxs[t] for t in tokens]\n",
    "        else:\n",
    "            return self.idxs[tokens[0]]"
   ]
  },
  {
   "cell_type": "code",
   "execution_count": 7,
   "metadata": {},
   "outputs": [],
   "source": [
    "def random_sentences(characters, N_samples=1000, sentence_len=5, N_words=100, word_len=4):\n",
    "    \n",
    "    vocab = Vocabulary()\n",
    "    \n",
    "    for i in range(N_words):\n",
    "        w = ''.join(random.choices(characters, k=word_len))\n",
    "        vocab.encode_symbol(w)\n",
    "    \n",
    "    vocab.build()\n",
    "    words = vocab.all_tokens()\n",
    "    samples = []\n",
    "    samples_txt = []\n",
    "    for i in range(N_samples):\n",
    "        s = random.choices(words, k=sentence_len)\n",
    "        samples_txt.append(' '.join(s))\n",
    "        samples.append([vocab.bos] + vocab.encode(s) + [vocab.eos])\n",
    "    \n",
    "    return torch.tensor(samples), vocab, samples_txt"
   ]
  },
  {
   "cell_type": "code",
   "execution_count": 9,
   "metadata": {},
   "outputs": [
    {
     "name": "stderr",
     "output_type": "stream",
     "text": [
      "Loss=0.006429367698729038: 100%|██████████| 500/500 [00:03<00:00, 125.48it/s]\n"
     ]
    }
   ],
   "source": [
    "from tqdm import tqdm\n",
    "\n",
    "X_all, vocab_X, X_txt = random_sentences('abcdefghijklmnop', N_samples=10, sentence_len=5, N_words=100, word_len=4)\n",
    "Y_all, vocab_Y, Y_txt = random_sentences('ABCDEFGHIJKLMNOP', N_samples=10, sentence_len=5, N_words=100, word_len=4)\n",
    "\n",
    "\n",
    "model = Seq2SeqLSTM(vocab_X, vocab_Y, d_h=16, num_layers=2)\n",
    "optimizer = torch.optim.Adam(model.parameters(), lr=3e-3)\n",
    "loss_fn = nn.CrossEntropyLoss()\n",
    "\n",
    "losses = []\n",
    "with tqdm(range(500)) as pbar:\n",
    "    for i in pbar:\n",
    "        batch_idxs = torch.randint(len(X_all), [32])\n",
    "        X_batch = X_all[batch_idxs]\n",
    "        Y_batch = Y_all[batch_idxs]\n",
    "\n",
    "        optimizer.zero_grad()\n",
    "        Y_logits, _ = model(X_batch, Y_batch)\n",
    "\n",
    "        loss = loss_fn(Y_logits.flatten(end_dim=1)[:-1], Y_batch.flatten()[1:])\n",
    "        loss.backward()\n",
    "        optimizer.step()\n",
    "        losses.append(loss.item())\n",
    "        if i % 100 == 0:\n",
    "            pbar.set_description(f'Loss={loss.item()}')"
   ]
  },
  {
   "cell_type": "code",
   "execution_count": 10,
   "metadata": {},
   "outputs": [
    {
     "data": {
      "image/png": "[encoded data removed]",
      "text/plain": [
       "<Figure size 432x288 with 1 Axes>"
      ]
     },
     "metadata": {
      "needs_background": "light"
     },
     "output_type": "display_data"
    }
   ],
   "source": [
    "import matplotlib.pyplot as plt\n",
    "\n",
    "plt.plot(losses);"
   ]
  },
  {
   "cell_type": "code",
   "execution_count": 12,
   "metadata": {},
   "outputs": [
    {
     "name": "stdout",
     "output_type": "stream",
     "text": [
      "tensor([[89, 30, 82, 25, 22,  3]])\n",
      "tensor([[89, 30, 82, 25, 22,  3]])\n"
     ]
    }
   ],
   "source": [
    "logits, _ = model(X_all[[0]], Y_all[[0]])\n",
    "_, y_pred = torch.max(logits, axis=-1)\n",
    "print(y_pred[:, :-1])\n",
    "\n",
    "logits, y_pred = autoregressive_decode(X_all[[0]], model, vocab_X.bos, vocab_X.eos)\n",
    "print(y_pred)"
   ]
  },
  {
   "cell_type": "code",
   "execution_count": null,
   "metadata": {},
   "outputs": [],
   "source": []
  }
 ],
 "metadata": {
  "kernelspec": {
   "display_name": "curriculum_vqa",
   "language": "python",
   "name": "curriculum_vqa"
  },
  "language_info": {
   "codemirror_mode": {
    "name": "ipython",
    "version": 3
   },
   "file_extension": ".py",
   "mimetype": "text/x-python",
   "name": "python",
   "nbconvert_exporter": "python",
   "pygments_lexer": "ipython3",
   "version": "3.8.1"
  }
 },
 "nbformat": 4,
 "nbformat_minor": 4
}
