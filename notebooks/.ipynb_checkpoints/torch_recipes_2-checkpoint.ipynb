{
 "cells": [
  {
   "cell_type": "code",
   "execution_count": 67,
   "metadata": {},
   "outputs": [],
   "source": [
    "import numpy as np\n",
    "import torch\n",
    "\n",
    "import matplotlib.pyplot as plt"
   ]
  },
  {
   "cell_type": "markdown",
   "metadata": {},
   "source": [
    "## Concatenation"
   ]
  },
  {
   "cell_type": "code",
   "execution_count": 68,
   "metadata": {},
   "outputs": [
    {
     "data": {
      "text/plain": [
       "tensor([[0.2310, 0.6210, 0.1816, 0.0659, 0.7981, 0.8639, 0.1402],\n",
       "        [0.0421, 0.6136, 0.3277, 0.9895, 0.6705, 0.9587, 0.6449],\n",
       "        [0.3220, 0.4081, 0.7089, 0.3106, 0.5994, 0.4298, 0.9908],\n",
       "        [0.8969, 0.9901, 0.5953, 0.4964, 0.2348, 0.6053, 0.2355],\n",
       "        [0.7281, 0.7939, 0.4873, 0.8294, 0.3781, 0.5904, 0.1141]])"
      ]
     },
     "execution_count": 68,
     "metadata": {},
     "output_type": "execute_result"
    }
   ],
   "source": [
    "torch.cat([\n",
    "    torch.rand(5, 2),\n",
    "    torch.rand(5, 5),\n",
    "], dim=1)"
   ]
  },
  {
   "cell_type": "code",
   "execution_count": 69,
   "metadata": {},
   "outputs": [],
   "source": [
    "# a = torch.rand(3).unsqueeze(1)\n",
    "# torch.cat([a, 1-a], dim=1)"
   ]
  },
  {
   "cell_type": "markdown",
   "metadata": {},
   "source": [
    "## Repetition"
   ]
  },
  {
   "cell_type": "code",
   "execution_count": 70,
   "metadata": {},
   "outputs": [
    {
     "data": {
      "text/plain": [
       "tensor([[-0.9173, -0.9243, -0.0569],\n",
       "        [-0.1295, -0.0254,  0.1813]])"
      ]
     },
     "execution_count": 70,
     "metadata": {},
     "output_type": "execute_result"
    }
   ],
   "source": [
    "a = torch.randn(2,3)\n",
    "a.repeat(1, 1)"
   ]
  },
  {
   "cell_type": "code",
   "execution_count": 71,
   "metadata": {},
   "outputs": [
    {
     "data": {
      "text/plain": [
       "tensor([[[-0.9173, -0.9243, -0.0569],\n",
       "         [-0.1295, -0.0254,  0.1813]],\n",
       "\n",
       "        [[-0.9173, -0.9243, -0.0569],\n",
       "         [-0.1295, -0.0254,  0.1813]],\n",
       "\n",
       "        [[-0.9173, -0.9243, -0.0569],\n",
       "         [-0.1295, -0.0254,  0.1813]]])"
      ]
     },
     "execution_count": 71,
     "metadata": {},
     "output_type": "execute_result"
    }
   ],
   "source": [
    "a.repeat(3, 1, 1)"
   ]
  },
  {
   "cell_type": "markdown",
   "metadata": {},
   "source": [
    "## Randoms"
   ]
  },
  {
   "cell_type": "code",
   "execution_count": 72,
   "metadata": {},
   "outputs": [
    {
     "data": {
      "text/plain": [
       "tensor([0, 0, 1, 1, 1])"
      ]
     },
     "execution_count": 72,
     "metadata": {},
     "output_type": "execute_result"
    }
   ],
   "source": [
    "torch.randint(0, 2, size=[5])"
   ]
  },
  {
   "cell_type": "code",
   "execution_count": 73,
   "metadata": {},
   "outputs": [
    {
     "data": {
      "text/plain": [
       "array([29, 28,  9, 14, 33])"
      ]
     },
     "execution_count": 73,
     "metadata": {},
     "output_type": "execute_result"
    }
   ],
   "source": [
    "np.random.choice(40, 5, replace=False)"
   ]
  },
  {
   "cell_type": "markdown",
   "metadata": {},
   "source": [
    "# Experiments"
   ]
  },
  {
   "cell_type": "code",
   "execution_count": 135,
   "metadata": {},
   "outputs": [],
   "source": [
    "import torch.nn as nn\n",
    "import torch.nn.functional as F\n",
    "from torch.utils.tensorboard import SummaryWriter\n",
    "from datetime import datetime\n",
    "\n",
    "class SimpleModel(nn.Module):\n",
    "    \n",
    "    def __init__(self, d, N_t, h=200):\n",
    "        super().__init__()\n",
    "        self.W1 = nn.Linear(d, h)\n",
    "        self.W2 = nn.Linear(h, 2)\n",
    "        self.E = nn.Embedding(N_t, d-3)\n",
    "        \n",
    "    def forward(self, x, x_tokens):\n",
    "        x_t_embed = self.E(x_tokens)  # [B, 5, d-3]\n",
    "        x_t_embed = x_t_embed.sum(axis=1)\n",
    "        \n",
    "        B, _ = x_t_embed.shape\n",
    "        x_t_embed = torch.cat([x_t_embed, torch.rand(B, 3)], dim=1)\n",
    "        \n",
    "        x_t = self.W1(x_t_embed)\n",
    "        \n",
    "        x = self.W1(x) + x_t\n",
    "        \n",
    "        x = F.relu(x)\n",
    "        x = self.W2(x)\n",
    "        return x\n",
    "\n",
    "    \n",
    "N = 100\n",
    "N_t = 10\n",
    "d = 10\n",
    "\n",
    "X = torch.rand(N, d)\n",
    "X_tokens = torch.randint(N_t, size=[N, 5])\n",
    "y = torch.randint(0, 2, size=[N])\n",
    "\n",
    "\n",
    "\n",
    "####\n",
    "writer = SummaryWriter(f'runs/tests/run-{datetime.now().strftime(\"%H-%M-%S\")}')\n",
    "\n",
    "model = SimpleModel(d, N_t)\n",
    "optimizer = torch.optim.Adam(model.parameters(), lr=3e-3)\n",
    "loss_fn = nn.CrossEntropyLoss()\n",
    "\n",
    "losses = []\n",
    "for i in range(1000):\n",
    "    batch_idxs = np.random.choice(N, 50, replace=False)\n",
    "    X_batch = X[batch_idxs, :]\n",
    "    X_t_batch = X_tokens[batch_idxs, :]\n",
    "    y_batch = y[batch_idxs]\n",
    "    \n",
    "    optimizer.zero_grad()\n",
    "    \n",
    "    logits = model(X_batch, X_t_batch)\n",
    "    loss = loss_fn(logits, y_batch)\n",
    "    loss.backward()\n",
    "    optimizer.step()\n",
    "    \n",
    "    losses.append(loss.item())\n",
    "    \n",
    "    if i % 100 == 0:\n",
    "        writer.add_scalar('Loss/train', loss.item(), i)\n",
    "        for tag, parm in model.named_parameters():\n",
    "            writer.add_histogram(tag, parm.grad.data.cpu().numpy(), i)"
   ]
  },
  {
   "cell_type": "code",
   "execution_count": 136,
   "metadata": {},
   "outputs": [
    {
     "data": {
      "image/png": "[encoded data removed]",
      "text/plain": [
       "<Figure size 432x288 with 1 Axes>"
      ]
     },
     "metadata": {
      "needs_background": "light"
     },
     "output_type": "display_data"
    }
   ],
   "source": [
    "plt.plot(losses);"
   ]
  },
  {
   "cell_type": "code",
   "execution_count": null,
   "metadata": {},
   "outputs": [],
   "source": []
  },
  {
   "cell_type": "code",
   "execution_count": null,
   "metadata": {},
   "outputs": [],
   "source": []
  }
 ],
 "metadata": {
  "kernelspec": {
   "display_name": "curriculum_vqa",
   "language": "python",
   "name": "curriculum_vqa"
  },
  "language_info": {
   "codemirror_mode": {
    "name": "ipython",
    "version": 3
   },
   "file_extension": ".py",
   "mimetype": "text/x-python",
   "name": "python",
   "nbconvert_exporter": "python",
   "pygments_lexer": "ipython3",
   "version": "3.8.1"
  }
 },
 "nbformat": 4,
 "nbformat_minor": 4
}
