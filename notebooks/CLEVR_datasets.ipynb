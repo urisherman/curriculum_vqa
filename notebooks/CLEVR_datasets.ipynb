{
 "cells": [
  {
   "cell_type": "code",
   "execution_count": 2,
   "metadata": {},
   "outputs": [],
   "source": [
    "%load_ext autoreload\n",
    "%autoreload 2"
   ]
  },
  {
   "cell_type": "code",
   "execution_count": 40,
   "metadata": {},
   "outputs": [],
   "source": [
    "import numpy as np\n",
    "import matplotlib.pyplot as plt\n",
    "_include_('curriculum_vqa')"
   ]
  },
  {
   "cell_type": "code",
   "execution_count": 69,
   "metadata": {},
   "outputs": [],
   "source": [
    "CLEVR_root = f'{DEV_HOME}/curriculum_vqa/data-bin/CLEVR_v1.0'\n",
    "CLEVR_fil_root = f'{DEV_HOME}/curriculum_vqa/data-bin/CLEVR_small_6'\n",
    "\n",
    "# ds = datasets.CLEVR(CLEVR_root, split='val')"
   ]
  },
  {
   "cell_type": "code",
   "execution_count": 97,
   "metadata": {},
   "outputs": [
    {
     "data": {
      "text/plain": [
       "70000"
      ]
     },
     "execution_count": 97,
     "metadata": {},
     "output_type": "execute_result"
    }
   ],
   "source": [
    "with open(f'{CLEVR_root}/scenes/CLEVR_train_scenes.json') as f:\n",
    "    scenes = json.load(f)['scenes']\n",
    "    \n",
    "len(scenes)"
   ]
  },
  {
   "cell_type": "code",
   "execution_count": 98,
   "metadata": {},
   "outputs": [],
   "source": [
    "scenes = scenes[:1000]"
   ]
  },
  {
   "cell_type": "code",
   "execution_count": 100,
   "metadata": {},
   "outputs": [
    {
     "data": {
      "text/plain": [
       "{'metal', 'rubber'}"
      ]
     },
     "execution_count": 100,
     "metadata": {},
     "output_type": "execute_result"
    }
   ],
   "source": [
    "import itertools\n",
    "\n",
    "all_objects = itertools.chain(*[scene['objects'] for scene in scenes])\n",
    "set(map(lambda o: o['material'], all_objects))\n",
    "# list(all_objects)"
   ]
  },
  {
   "cell_type": "code",
   "execution_count": 79,
   "metadata": {},
   "outputs": [
    {
     "data": {
      "text/plain": [
       "149991"
      ]
     },
     "execution_count": 79,
     "metadata": {},
     "output_type": "execute_result"
    }
   ],
   "source": [
    "with open(f'{CLEVR_root}/questions/CLEVR_val_questions.json') as f:\n",
    "    questions = json.load(f)['questions']\n",
    "\n",
    "len(questions)"
   ]
  },
  {
   "cell_type": "code",
   "execution_count": 80,
   "metadata": {},
   "outputs": [
    {
     "data": {
      "text/plain": [
       "9887"
      ]
     },
     "execution_count": 80,
     "metadata": {},
     "output_type": "execute_result"
    }
   ],
   "source": [
    "filtered_questions = [x for x in questions if len(x['program']) < 6 ]\n",
    "len(filtered_questions)"
   ]
  },
  {
   "cell_type": "code",
   "execution_count": 81,
   "metadata": {},
   "outputs": [
    {
     "data": {
      "text/plain": [
       "{'image_index': 0,\n",
       " 'program': [{'inputs': [], 'function': 'scene', 'value_inputs': []},\n",
       "  {'inputs': [0], 'function': 'filter_size', 'value_inputs': ['large']},\n",
       "  {'inputs': [1], 'function': 'filter_color', 'value_inputs': ['purple']},\n",
       "  {'inputs': [2], 'function': 'unique', 'value_inputs': []},\n",
       "  {'inputs': [3], 'function': 'query_material', 'value_inputs': []}],\n",
       " 'question_index': 2,\n",
       " 'image_filename': 'CLEVR_val_000000.png',\n",
       " 'question_family_index': 87,\n",
       " 'split': 'val',\n",
       " 'answer': 'metal',\n",
       " 'question': 'What is the material of the big purple object?'}"
      ]
     },
     "execution_count": 81,
     "metadata": {},
     "output_type": "execute_result"
    }
   ],
   "source": [
    "filtered_questions[0]"
   ]
  },
  {
   "cell_type": "code",
   "execution_count": 74,
   "metadata": {},
   "outputs": [
    {
     "data": {
      "text/plain": [
       "['What is the material of the big purple object?',\n",
       " 'What number of gray matte blocks are there?',\n",
       " 'Are any tiny green metal things visible?',\n",
       " 'Is there anything else that has the same material as the red thing?',\n",
       " 'What color is the small ball?']"
      ]
     },
     "execution_count": 74,
     "metadata": {},
     "output_type": "execute_result"
    }
   ],
   "source": [
    "list(map(lambda x: x['question'], filtered_questions))[:5]"
   ]
  },
  {
   "cell_type": "code",
   "execution_count": 75,
   "metadata": {},
   "outputs": [],
   "source": [
    "\n",
    "os.makedirs(f'{CLEVR_fil_root}/questions', exist_ok=True)\n",
    "\n",
    "with open(f'{CLEVR_fil_root}/questions/CLEVR_val_questions.json', 'w') as f:\n",
    "    json.dump({\n",
    "        'info': 'Programs up to length 6',\n",
    "        'questions': filtered_questions\n",
    "    }, f)"
   ]
  },
  {
   "cell_type": "code",
   "execution_count": null,
   "metadata": {},
   "outputs": [],
   "source": []
  },
  {
   "cell_type": "code",
   "execution_count": null,
   "metadata": {},
   "outputs": [],
   "source": []
  },
  {
   "cell_type": "code",
   "execution_count": null,
   "metadata": {},
   "outputs": [],
   "source": []
  },
  {
   "cell_type": "code",
   "execution_count": null,
   "metadata": {},
   "outputs": [],
   "source": []
  },
  {
   "cell_type": "code",
   "execution_count": null,
   "metadata": {},
   "outputs": [],
   "source": []
  }
 ],
 "metadata": {
  "kernelspec": {
   "display_name": "curriculum_vqa",
   "language": "python",
   "name": "curriculum_vqa"
  },
  "language_info": {
   "codemirror_mode": {
    "name": "ipython",
    "version": 3
   },
   "file_extension": ".py",
   "mimetype": "text/x-python",
   "name": "python",
   "nbconvert_exporter": "python",
   "pygments_lexer": "ipython3",
   "version": "3.8.1"
  }
 },
 "nbformat": 4,
 "nbformat_minor": 4
}
