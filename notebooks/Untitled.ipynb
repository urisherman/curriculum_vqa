{
 "cells": [
  {
   "cell_type": "code",
   "execution_count": 12,
   "metadata": {},
   "outputs": [
    {
     "data": {
      "text/plain": [
       "['6 - 2', '17 + 17', '14 + 16', '11 - 7', '5 + 9']"
      ]
     },
     "execution_count": 12,
     "metadata": {},
     "output_type": "execute_result"
    }
   ],
   "source": [
    "_include_('curriculum_vqa')\n",
    "\n",
    "import numpy as np\n",
    "import torch\n",
    "from cvqa.model_dev.misc import Vocabulary\n",
    "\n",
    "N = 100\n",
    "\n",
    "prompt_vocab = Vocabulary()\n",
    "X_all_str = []\n",
    "X_all = []\n",
    "Y_all = []\n",
    "for i in range(N):\n",
    "    a, b = np.random.randint(20, size=2)\n",
    "    op = np.random.choice(['+', '-'])\n",
    "    prompt = f'{a} {op} {b}'\n",
    "    \n",
    "    X_all_str.append(prompt)\n",
    "    prompt_tokens = prompt.strip().split(' ')\n",
    "    X_all.append(prompt_vocab.encode(prompt_tokens))\n",
    "    Y_all.append(eval(prompt))\n",
    "    \n",
    "prompt_vocab.build()\n",
    "\n",
    "X_all_str[:5]"
   ]
  },
  {
   "cell_type": "code",
   "execution_count": 9,
   "metadata": {},
   "outputs": [
    {
     "data": {
      "text/plain": [
       "tensor(50)"
      ]
     },
     "execution_count": 9,
     "metadata": {},
     "output_type": "execute_result"
    }
   ],
   "source": [
    "import torch.nn as nn\n",
    "\n",
    "class OperatorModule(nn.Module):\n",
    "    \n",
    "    def __init__(self, d=1):\n",
    "        super().__init__()\n",
    "        \n",
    "    def forward(self, inputs, seed, context=None):\n",
    "        inputs_vec = torch.stack(inputs)\n",
    "        return torch.dot(inputs_vec, seed)\n",
    "        \n",
    "OperatorModule()(\n",
    "    [ torch.tensor(35), torch.tensor(15) ], \n",
    "    torch.tensor([1, 1])  # +\n",
    ")"
   ]
  },
  {
   "cell_type": "code",
   "execution_count": 5,
   "metadata": {},
   "outputs": [],
   "source": [
    "from cvqa.model_dev import parent\n",
    "from cvqa.model_dev.programs import ProgramSpec, Seq2ConstTreeModel, Seq2VecsLSTM\n",
    "\n",
    "modules_dict = {\n",
    "    'O': OperatorModule()\n",
    "}\n",
    "program_spec = ProgramSpec(modules_dict)\n",
    "seq2tree = Seq2ConstTreeModel(program_spec.vocab, 'O')\n",
    "\n",
    "seeder_args = Seq2VecsLSTM.args(prompt_vocab, program_spec.vocab)\n",
    "seeder_args['d_target'] = 2\n",
    "seeder_model = Seq2VecsLSTM(seeder_args)\n",
    "\n",
    "model = parent.MyModel(seq2tree, seeder_model, program_spec)"
   ]
  },
  {
   "cell_type": "code",
   "execution_count": null,
   "metadata": {},
   "outputs": [],
   "source": []
  },
  {
   "cell_type": "code",
   "execution_count": null,
   "metadata": {},
   "outputs": [],
   "source": []
  }
 ],
 "metadata": {
  "kernelspec": {
   "display_name": "curriculum_vqa",
   "language": "python",
   "name": "curriculum_vqa"
  },
  "language_info": {
   "codemirror_mode": {
    "name": "ipython",
    "version": 3
   },
   "file_extension": ".py",
   "mimetype": "text/x-python",
   "name": "python",
   "nbconvert_exporter": "python",
   "pygments_lexer": "ipython3",
   "version": "3.8.1"
  }
 },
 "nbformat": 4,
 "nbformat_minor": 4
}
