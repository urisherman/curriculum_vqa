{
 "cells": [
  {
   "cell_type": "code",
   "execution_count": 5,
   "metadata": {},
   "outputs": [],
   "source": [
    "%load_ext autoreload\n",
    "%autoreload 2"
   ]
  },
  {
   "cell_type": "code",
   "execution_count": 14,
   "metadata": {},
   "outputs": [],
   "source": [
    "import torch\n",
    "import torch.nn as nn\n",
    "import torch.nn.functional as F\n",
    "import torch.optim as optim\n",
    "from torch.optim import lr_scheduler\n",
    "import numpy as np\n",
    "import torchvision as tv\n",
    "from torchvision import datasets, models, transforms\n",
    "import matplotlib.pyplot as plt\n",
    "import time\n",
    "import os\n",
    "import copy\n",
    "\n",
    "plt.ion()   # interactive mode"
   ]
  },
  {
   "cell_type": "code",
   "execution_count": 15,
   "metadata": {},
   "outputs": [
    {
     "data": {
      "text/plain": [
       "Root: /Users/urisherman/Work/workspace/curriculum_vqa/data-bin/basic_curriculum/train \n",
       "Samples: 2000 (N_prompt=8, N_target=1)\n",
       "Concepts: 0 \n",
       "Classes: 0 \n",
       "Vocab Tokens:19"
      ]
     },
     "execution_count": 15,
     "metadata": {},
     "output_type": "execute_result"
    }
   ],
   "source": [
    "_include_('curriculum_vqa')\n",
    "_include_('commons')\n",
    "\n",
    "from cvqa import datasets, models, trainers\n",
    "from commons import debug\n",
    "\n",
    "seed = 1\n",
    "\n",
    "np.random.seed(seed)\n",
    "torch.manual_seed(seed);\n",
    "\n",
    "root = f'{DEV_HOME}/curriculum_vqa/data-bin/basic_curriculum'\n",
    "\n",
    "train_dataset = datasets.Curriculum(root, 'train')\n",
    "train_dataset"
   ]
  },
  {
   "cell_type": "code",
   "execution_count": 24,
   "metadata": {},
   "outputs": [
    {
     "data": {
      "text/plain": [
       "tensor([[[4.5339e-01, 5.1638e-02, 2.9266e-02, 3.1533e-02, 9.8024e-01,\n",
       "          8.9547e-01, 6.9834e-01, 3.7441e-01],\n",
       "         [9.3050e-01, 3.6793e-01, 8.4711e-01, 4.8373e-01, 2.6480e-01,\n",
       "          3.6045e-01, 3.9324e-01, 4.2332e-02],\n",
       "         [6.4952e-01, 3.4766e-01, 7.2972e-01, 8.1879e-01, 4.2051e-01,\n",
       "          7.4249e-01, 5.9990e-01, 8.3578e-01],\n",
       "         [1.0000e+00, 1.0000e+00, 1.0000e+00, 1.0000e+00, 1.0000e+00,\n",
       "          1.0000e+00, 1.0000e+00, 1.0000e+00]],\n",
       "\n",
       "        [[1.7755e-01, 4.5610e-01, 3.3339e-01, 9.3812e-01, 5.1204e-02,\n",
       "          2.1896e-01, 5.5645e-01, 9.4387e-01],\n",
       "         [8.3831e-01, 3.2121e-02, 1.4847e-01, 9.8480e-01, 5.7287e-01,\n",
       "          7.1747e-02, 3.4247e-01, 7.1859e-01],\n",
       "         [3.9545e-01, 1.1594e-01, 1.9129e-01, 2.4098e-01, 4.8042e-01,\n",
       "          6.9595e-01, 7.4006e-01, 2.5710e-01],\n",
       "         [1.0000e+00, 1.0000e+00, 1.0000e+00, 1.0000e+00, 1.0000e+00,\n",
       "          1.0000e+00, 1.0000e+00, 1.0000e+00]],\n",
       "\n",
       "        [[4.1611e-01, 1.1396e-01, 8.7812e-01, 9.9898e-01, 9.8599e-01,\n",
       "          7.0434e-01, 3.9338e-01, 4.8754e-01],\n",
       "         [6.8039e-01, 6.6595e-02, 5.3104e-01, 9.3573e-02, 8.6367e-05,\n",
       "          4.8329e-01, 3.4082e-01, 1.8327e-01],\n",
       "         [5.8289e-01, 5.2037e-01, 5.7630e-01, 2.2016e-01, 1.0256e-02,\n",
       "          5.1094e-01, 2.9602e-01, 3.3143e-01],\n",
       "         [1.0000e+00, 1.0000e+00, 1.0000e+00, 1.0000e+00, 1.0000e+00,\n",
       "          1.0000e+00, 1.0000e+00, 1.0000e+00]],\n",
       "\n",
       "        [[8.6809e-01, 5.8166e-01, 7.2836e-01, 3.6026e-01, 1.0326e-01,\n",
       "          5.9970e-01, 1.6888e-01, 5.6195e-01],\n",
       "         [1.0979e-01, 8.7695e-01, 1.5939e-01, 9.3408e-01, 8.5320e-01,\n",
       "          8.7797e-01, 8.0002e-01, 6.1573e-01],\n",
       "         [4.7563e-01, 4.9202e-01, 3.0114e-01, 4.0402e-02, 9.5574e-01,\n",
       "          5.2591e-01, 7.3516e-01, 5.1835e-01],\n",
       "         [1.0000e+00, 1.0000e+00, 1.0000e+00, 1.0000e+00, 1.0000e+00,\n",
       "          1.0000e+00, 1.0000e+00, 1.0000e+00]],\n",
       "\n",
       "        [[6.4369e-01, 1.9193e-01, 1.1132e-01, 8.8132e-01, 6.8961e-01,\n",
       "          7.4688e-01, 3.7221e-03, 5.3380e-01],\n",
       "         [3.3623e-02, 4.4278e-01, 4.7357e-01, 1.4824e-01, 4.8874e-03,\n",
       "          5.0329e-01, 9.4965e-01, 9.5061e-01],\n",
       "         [1.9559e-01, 4.1118e-01, 8.1878e-02, 1.0952e-01, 3.6291e-01,\n",
       "          9.8543e-01, 3.6956e-01, 5.2893e-01],\n",
       "         [1.0000e+00, 1.0000e+00, 1.0000e+00, 1.0000e+00, 1.0000e+00,\n",
       "          1.0000e+00, 1.0000e+00, 1.0000e+00]]])"
      ]
     },
     "execution_count": 24,
     "metadata": {},
     "output_type": "execute_result"
    }
   ],
   "source": [
    "B, N, d = 5, 3, 8\n",
    "\n",
    "x = torch.rand(B, N, d)\n",
    "\n",
    "\n",
    "F.pad(x, (0, 0, 0, 1), value=1)"
   ]
  },
  {
   "cell_type": "code",
   "execution_count": null,
   "metadata": {},
   "outputs": [],
   "source": []
  }
 ],
 "metadata": {
  "kernelspec": {
   "display_name": "curriculum_vqa",
   "language": "python",
   "name": "curriculum_vqa"
  },
  "language_info": {
   "codemirror_mode": {
    "name": "ipython",
    "version": 3
   },
   "file_extension": ".py",
   "mimetype": "text/x-python",
   "name": "python",
   "nbconvert_exporter": "python",
   "pygments_lexer": "ipython3",
   "version": "3.8.1"
  }
 },
 "nbformat": 4,
 "nbformat_minor": 4
}
