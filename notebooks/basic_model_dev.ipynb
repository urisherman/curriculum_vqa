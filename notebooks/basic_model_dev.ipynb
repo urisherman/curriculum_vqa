{
 "cells": [
  {
   "cell_type": "code",
   "execution_count": 103,
   "metadata": {},
   "outputs": [
    {
     "name": "stdout",
     "output_type": "stream",
     "text": [
      "The autoreload extension is already loaded. To reload it, use:\n",
      "  %reload_ext autoreload\n"
     ]
    },
    {
     "name": "stderr",
     "output_type": "stream",
     "text": [
      "[autoreload of cvqa.models failed: Traceback (most recent call last):\n",
      "  File \"/Users/urisherman/.pyenv/versions/3.8.1/envs/curriculum_vqa/lib/python3.8/site-packages/IPython/extensions/autoreload.py\", line 245, in check\n",
      "    superreload(m, reload, self.old_objects)\n",
      "  File \"/Users/urisherman/.pyenv/versions/3.8.1/envs/curriculum_vqa/lib/python3.8/site-packages/IPython/extensions/autoreload.py\", line 410, in superreload\n",
      "    update_generic(old_obj, new_obj)\n",
      "  File \"/Users/urisherman/.pyenv/versions/3.8.1/envs/curriculum_vqa/lib/python3.8/site-packages/IPython/extensions/autoreload.py\", line 347, in update_generic\n",
      "    update(a, b)\n",
      "  File \"/Users/urisherman/.pyenv/versions/3.8.1/envs/curriculum_vqa/lib/python3.8/site-packages/IPython/extensions/autoreload.py\", line 302, in update_class\n",
      "    if update_generic(old_obj, new_obj): continue\n",
      "  File \"/Users/urisherman/.pyenv/versions/3.8.1/envs/curriculum_vqa/lib/python3.8/site-packages/IPython/extensions/autoreload.py\", line 347, in update_generic\n",
      "    update(a, b)\n",
      "  File \"/Users/urisherman/.pyenv/versions/3.8.1/envs/curriculum_vqa/lib/python3.8/site-packages/IPython/extensions/autoreload.py\", line 266, in update_function\n",
      "    setattr(old, name, getattr(new, name))\n",
      "ValueError: __init__() requires a code object with 0 free vars, not 1\n",
      "]\n"
     ]
    }
   ],
   "source": [
    "%load_ext autoreload\n",
    "%autoreload 2"
   ]
  },
  {
   "cell_type": "code",
   "execution_count": null,
   "metadata": {},
   "outputs": [],
   "source": [
    "output"
   ]
  },
  {
   "cell_type": "code",
   "execution_count": 2,
   "metadata": {},
   "outputs": [],
   "source": [
    "import sys\n",
    "import os\n",
    "\n",
    "%load_ext tensorboard\n",
    "\n",
    "_include_('curriculum_vqa')\n",
    "_include_('commons')\n",
    "\n",
    "data_bin = f'{DEV_HOME}/curriculum_vqa/data-bin'"
   ]
  },
  {
   "cell_type": "code",
   "execution_count": 3,
   "metadata": {},
   "outputs": [],
   "source": [
    "from cvqa import datasets, models, trainers, viz"
   ]
  },
  {
   "cell_type": "code",
   "execution_count": 4,
   "metadata": {},
   "outputs": [
    {
     "data": {
      "text/plain": [
       "Root: /Users/urisherman/Work/workspace/curriculum_vqa/data-bin/basic_curriculum/train \n",
       "Samples: 102 (N_prompt=1, N_target=1)\n",
       "Concepts: 2 \n",
       "Classes: 5 \n",
       "Vocab Tokens:8"
      ]
     },
     "execution_count": 4,
     "metadata": {},
     "output_type": "execute_result"
    }
   ],
   "source": [
    "train_dataset = datasets.BasicCurriculum(f'{data_bin}/basic_curriculum', 'train', limit=100)\n",
    "dev_dataset = datasets.BasicCurriculum(f'{data_bin}/basic_curriculum', 'dev', limit=10)\n",
    "train_dataset"
   ]
  },
  {
   "cell_type": "code",
   "execution_count": 5,
   "metadata": {},
   "outputs": [
    {
     "data": {
      "image/png": "[encoded data removed]",
      "text/plain": [
       "<Figure size 1152x288 with 4 Axes>"
      ]
     },
     "metadata": {
      "needs_background": "light"
     },
     "output_type": "display_data"
    }
   ],
   "source": [
    "viz.show_samples(train_dataset)"
   ]
  },
  {
   "cell_type": "code",
   "execution_count": 8,
   "metadata": {},
   "outputs": [],
   "source": [
    "import logging\n",
    "import statistics\n",
    "import os\n",
    "import warnings\n",
    "\n",
    "from datetime import datetime\n",
    "\n",
    "import torch\n",
    "import torch.utils as torch_utils\n",
    "import torch.nn as nn\n",
    "\n",
    "from torch.utils.tensorboard import SummaryWriter\n",
    "\n",
    "import fairseq.utils as fairseq_utils\n",
    "\n",
    "from tqdm import tqdm\n",
    "\n",
    "from cvqa import datasets, utils, models, viz\n",
    "from cvqa import fairseq_misc\n"
   ]
  },
  {
   "cell_type": "code",
   "execution_count": 96,
   "metadata": {},
   "outputs": [
    {
     "data": {
      "text/plain": [
       "Embedding(8, 16, padding_idx=1)"
      ]
     },
     "execution_count": 96,
     "metadata": {},
     "output_type": "execute_result"
    }
   ],
   "source": [
    "params = {\n",
    "    'd': 16\n",
    "}\n",
    "\n",
    "vocab = train_dataset.vocab\n",
    "tokens_embeddings = fairseq_misc.build_embedding(vocab, params['d'])\n",
    "tokens_embeddings"
   ]
  },
  {
   "cell_type": "code",
   "execution_count": 97,
   "metadata": {},
   "outputs": [],
   "source": [
    "decoder = models.build_decoder(vocab, tokens_embeddings, d=params['d'])"
   ]
  },
  {
   "cell_type": "code",
   "execution_count": 102,
   "metadata": {},
   "outputs": [
    {
     "data": {
      "text/plain": [
       "(tensor([[[ 0.4175,  0.0000,  1.7619,  0.2088, -1.9299,  0.4869,  0.7468,\n",
       "            0.9934]],\n",
       " \n",
       "         [[-0.0863,  0.0000,  1.6493, -0.4398, -0.1533, -0.5381,  0.7553,\n",
       "            0.2950]]], grad_fn=<UnsafeViewBackward>),\n",
       " {'attn': tensor([[[0.0668, 0.0648, 0.0636, 0.0708, 0.0704, 0.0787, 0.0587, 0.0618,\n",
       "            0.0694, 0.0656, 0.0629, 0.0703, 0.0571, 0.0635, 0.0757]],\n",
       "  \n",
       "          [[0.0760, 0.0716, 0.0545, 0.0674, 0.0757, 0.0624, 0.0766, 0.0676,\n",
       "            0.0657, 0.0635, 0.0582, 0.0636, 0.0655, 0.0687, 0.0629]]],\n",
       "         grad_fn=<MeanBackward1>),\n",
       "  'inner_states': [tensor([[[-0.0000,  0.5294,  1.7023, -1.7081,  2.4041, -0.3990, -0.1208,\n",
       "              0.6410, -0.1022,  3.4557, -1.1689,  0.0000,  2.1475,  0.0000,\n",
       "              2.3755,  0.0000],\n",
       "            [-0.1018,  0.0000,  1.7023, -1.7081,  2.4041, -0.0000, -0.1208,\n",
       "              0.6410, -0.1022,  3.4557, -0.0000,  0.0000,  0.0000,  0.0000,\n",
       "              2.3755,  0.7372]]], grad_fn=<TransposeBackward0>),\n",
       "   tensor([[[-0.4152, -0.2316, -0.1981, -0.9662,  1.5881, -0.4490, -0.8351,\n",
       "              1.7478,  0.6023,  1.4233, -0.7126, -1.3103,  0.4463, -0.4959,\n",
       "              1.1774, -1.3714],\n",
       "            [ 1.5715,  0.1909, -0.5342,  0.1908, -0.1454, -0.9612,  0.0076,\n",
       "              1.6655, -0.6285,  2.1514,  0.1386, -1.2305, -1.1865, -0.7654,\n",
       "              0.3979, -0.8625]]], grad_fn=<NativeLayerNormBackward>),\n",
       "   tensor([[[-6.5341e-01, -1.7264e-01,  7.5660e-01, -6.2502e-01,  1.8231e+00,\n",
       "             -5.9135e-01, -2.5765e-01, -1.4036e-01, -3.9867e-01, -6.2182e-01,\n",
       "             -8.0269e-01, -1.8969e-01,  2.9837e+00, -3.5584e-01, -2.1115e-03,\n",
       "             -7.5213e-01],\n",
       "            [ 3.8162e-01,  1.4331e+00, -4.2477e-01, -2.5797e-01,  1.1006e+00,\n",
       "             -2.2590e-01, -2.5499e-01,  8.9811e-01, -1.1393e+00,  1.3014e+00,\n",
       "             -1.0068e+00,  1.2298e-01,  6.2592e-01, -7.2796e-01,  6.3774e-01,\n",
       "             -2.4638e+00]]], grad_fn=<NativeLayerNormBackward>)]})"
      ]
     },
     "execution_count": 102,
     "metadata": {},
     "output_type": "execute_result"
    }
   ],
   "source": [
    "from fairseq.models.transformer import TransformerModel, TransformerEncoder, TransformerDecoder, EncoderOut\n",
    "\n",
    "B = 2\n",
    "N_prompt = 7\n",
    "F_img = 8\n",
    "\n",
    "prompt_embedding = torch.rand(B, N_prompt, params['d'])\n",
    "prompt_pad_mask = prompt_embedding.sum(axis=-1) == 0\n",
    "img_embedding = torch.rand(B, F_img, params['d'])\n",
    "\n",
    "prev_decoded_tokens = torch.randint(3, [B, 1])\n",
    "\n",
    "decoder_out = decoder(prompt_embedding, prompt_pad_mask, img_embedding, prev_decoded_tokens)\n",
    "decoder_out"
   ]
  },
  {
   "cell_type": "code",
   "execution_count": 87,
   "metadata": {},
   "outputs": [
    {
     "data": {
      "text/plain": [
       "(tensor([[[ 0.6834,  0.0000,  0.1041, -2.0013, -0.5447,  0.8567, -1.4483,\n",
       "           -0.9313]],\n",
       " \n",
       "         [[ 0.8919,  0.0000,  0.0195, -1.2111, -0.2487,  0.3516, -0.2654,\n",
       "           -0.6239]]], grad_fn=<UnsafeViewBackward>),\n",
       " {'attn': tensor([[[0.0676, 0.0786, 0.0649, 0.0648, 0.0634, 0.0618, 0.0708, 0.0536,\n",
       "            0.0770, 0.0541, 0.0710, 0.0737, 0.0647, 0.0667, 0.0673]],\n",
       "  \n",
       "          [[0.0618, 0.0587, 0.0653, 0.0653, 0.0699, 0.0672, 0.0580, 0.0640,\n",
       "            0.0702, 0.0713, 0.0810, 0.0798, 0.0572, 0.0614, 0.0688]]],\n",
       "         grad_fn=<MeanBackward1>),\n",
       "  'inner_states': [tensor([[[-0.0000,  0.4043,  0.0000,  0.0000, -1.2167, -1.9242,  1.8285,\n",
       "              0.0000,  0.8778,  2.0578,  1.9187,  1.5122,  2.3806,  2.0839,\n",
       "              0.6163,  2.9395],\n",
       "            [-0.0000,  0.4043,  1.0425,  0.0000, -1.2167, -0.0000,  1.8285,\n",
       "              2.7819,  0.8778,  2.0578,  1.9187,  0.0000,  0.0000,  2.0839,\n",
       "              0.6163,  2.9395]]], grad_fn=<TransposeBackward0>),\n",
       "   tensor([[[-0.3648,  0.7306, -0.0140, -1.0926, -0.4047, -1.5010,  1.4484,\n",
       "              0.1593,  0.7159,  0.4861, -0.3067, -0.0829, -2.3941,  0.1791,\n",
       "              1.1689,  1.2725],\n",
       "            [-1.7600, -0.0505, -0.7852, -0.4422, -1.5020, -0.9069,  0.6194,\n",
       "              2.3569,  0.8493,  0.1040,  0.1809, -0.1230, -0.6287,  0.2138,\n",
       "              1.1531,  0.7213]]], grad_fn=<NativeLayerNormBackward>),\n",
       "   tensor([[[-1.2815,  1.4282, -0.1664, -1.0919,  0.6859, -0.3110,  0.6395,\n",
       "              0.6780,  1.6737, -0.7198, -0.7976,  0.2411, -2.2113,  0.0401,\n",
       "              0.4450,  0.7479],\n",
       "            [-1.4426,  0.0941, -1.2326, -0.8881,  1.3868,  0.0604, -0.6345,\n",
       "              2.6798,  0.8151, -0.0838, -0.5275, -0.0781,  0.1990,  0.4892,\n",
       "              0.0845, -0.9216]]], grad_fn=<NativeLayerNormBackward>)]})"
      ]
     },
     "execution_count": 87,
     "metadata": {},
     "output_type": "execute_result"
    }
   ],
   "source": [
    "decoder_in = EncoderOut(\n",
    "    encoder_out=comodal_embedding.transpose(0, 1),  # N_in x B x d\n",
    "    encoder_padding_mask=comodal_pad_mask,  # B x N_in\n",
    "    encoder_embedding=None,  # B x N_in x d\n",
    "    encoder_states=[],  # List[N_in x B x d]\n",
    ")\n",
    "\n",
    "prev_decoded_tokens = torch.randint(3, [B, 1])\n",
    "decoder_out = decoder(prev_decoded_tokens, encoder_out=decoder_in)\n",
    "decoder_out"
   ]
  },
  {
   "cell_type": "code",
   "execution_count": 77,
   "metadata": {},
   "outputs": [
    {
     "data": {
      "text/plain": [
       "tensor([[[0.4837, 0.9220, 0.9818, 0.8079, 0.2025, 0.4406, 0.7419, 0.0560,\n",
       "          0.0627, 0.8325, 0.0907, 0.4669, 0.5580, 0.0814, 0.2719, 0.3726],\n",
       "         [0.2622, 0.7644, 0.9296, 0.4638, 0.6483, 0.5691, 0.3506, 0.3497,\n",
       "          0.5004, 0.9749, 0.5271, 0.4078, 0.1193, 0.0726, 0.0152, 0.1966],\n",
       "         [0.7961, 0.5996, 0.9392, 0.6957, 0.9868, 0.2549, 0.6888, 0.4651,\n",
       "          0.3771, 0.0369, 0.4301, 0.2792, 0.1685, 0.7594, 0.1309, 0.8572],\n",
       "         [0.3026, 0.5476, 0.7991, 0.5769, 0.3314, 0.1503, 0.2420, 0.3108,\n",
       "          0.9997, 0.1848, 0.3946, 0.1533, 0.2218, 0.4395, 0.7386, 0.8897],\n",
       "         [0.2848, 0.6593, 0.3145, 0.2421, 0.4646, 0.4172, 0.9467, 0.9588,\n",
       "          0.9815, 0.9677, 0.7327, 0.8112, 0.3317, 0.0706, 0.6285, 0.3173],\n",
       "         [0.0608, 0.6005, 0.2541, 0.6193, 0.7896, 0.8672, 0.6473, 0.9345,\n",
       "          0.8886, 0.8783, 0.6411, 0.9486, 0.9124, 0.2591, 0.4121, 0.3241],\n",
       "         [0.3418, 0.8317, 0.7795, 0.0040, 0.9763, 0.0627, 0.5438, 0.5866,\n",
       "          0.7597, 0.4066, 0.3171, 0.8794, 0.0680, 0.2941, 0.8153, 0.2356]],\n",
       "\n",
       "        [[0.0355, 0.4738, 0.9595, 0.1674, 0.1084, 0.8836, 0.9649, 0.4183,\n",
       "          0.4354, 0.3956, 0.5484, 0.9812, 0.7431, 0.8260, 0.6419, 0.2103],\n",
       "         [0.9376, 0.2930, 0.4896, 0.1426, 0.5979, 0.0646, 0.2132, 0.4172,\n",
       "          0.0751, 0.7602, 0.2936, 0.5495, 0.0468, 0.6717, 0.3614, 0.6944],\n",
       "         [0.4023, 0.5712, 0.2068, 0.6192, 0.0334, 0.5147, 0.1689, 0.4838,\n",
       "          0.7518, 0.4109, 0.4973, 0.5250, 0.9619, 0.4217, 0.4317, 0.8753],\n",
       "         [0.5161, 0.4451, 0.6071, 0.6789, 0.9783, 0.1874, 0.5562, 0.6668,\n",
       "          0.2656, 0.5880, 0.4917, 0.2435, 0.6948, 0.4502, 0.2563, 0.0110],\n",
       "         [0.8431, 0.6617, 0.1278, 0.4358, 0.2439, 0.8205, 0.5591, 0.2790,\n",
       "          0.7858, 0.6774, 0.9588, 0.9820, 0.0681, 0.0286, 0.6568, 0.8352],\n",
       "         [0.2390, 0.6049, 0.2199, 0.8113, 0.4456, 0.0229, 0.9998, 0.9922,\n",
       "          0.7994, 0.5469, 0.7408, 0.5926, 0.3935, 0.2760, 0.9909, 0.7407],\n",
       "         [0.6979, 0.4657, 0.3979, 0.0634, 0.8563, 0.2806, 0.2611, 0.4149,\n",
       "          0.8010, 0.6027, 0.3263, 0.3458, 0.8678, 0.6463, 0.0771, 0.5009]]])"
      ]
     },
     "execution_count": 77,
     "metadata": {},
     "output_type": "execute_result"
    }
   ],
   "source": [
    "prompt_embedding"
   ]
  },
  {
   "cell_type": "code",
   "execution_count": 40,
   "metadata": {},
   "outputs": [
    {
     "data": {
      "text/plain": [
       "torch.Size([7, 2, 12])"
      ]
     },
     "execution_count": 40,
     "metadata": {},
     "output_type": "execute_result"
    }
   ],
   "source": [
    "prompt_embedding.transpose(0, 1).shape"
   ]
  },
  {
   "cell_type": "code",
   "execution_count": null,
   "metadata": {},
   "outputs": [],
   "source": [
    "dims = {\n",
    "    'p': 7,  # perception embedding dim\n",
    "    'V': token_embeddings.num_embeddings, \n",
    "    'd': token_embeddings.embedding_dim\n",
    "}\n",
    "\n",
    "decoder_layer = nn.TransformerDecoderLayer(d_model=dims['d'], nhead=1)\n",
    "transformer_decoder = nn.TransformerDecoder(decoder_layer, num_layers=2)\n",
    "memory = torch.rand(10, 32, 512)\n",
    "target = torch.rand(20, 32, 512)\n",
    "out = transformer_decoder(tgt, memory)"
   ]
  },
  {
   "cell_type": "code",
   "execution_count": null,
   "metadata": {},
   "outputs": [],
   "source": []
  },
  {
   "cell_type": "code",
   "execution_count": null,
   "metadata": {},
   "outputs": [],
   "source": []
  },
  {
   "cell_type": "code",
   "execution_count": null,
   "metadata": {},
   "outputs": [],
   "source": []
  },
  {
   "cell_type": "code",
   "execution_count": null,
   "metadata": {},
   "outputs": [],
   "source": []
  },
  {
   "cell_type": "code",
   "execution_count": null,
   "metadata": {},
   "outputs": [],
   "source": [
    "class VQAPromptOpModel(nn.Module):\n",
    "\n",
    "    @staticmethod\n",
    "    def build(d, dataset, c=None, img_perceptor=None):\n",
    "        prompt_embeddings, target_embeddings = build_embeddings(d, dataset, c=c)\n",
    "        return VQAPromptOpModel(prompt_embeddings, target_embeddings, img_perceptor=img_perceptor)\n",
    "\n",
    "    def __init__(self, prompt_embedding, target_embedding, img_perceptor=None):\n",
    "        super().__init__()\n",
    "\n",
    "        if img_perceptor is None:\n",
    "            img_perceptor = BasicImgModel(20)\n",
    "        self.img_perceptor = img_perceptor\n",
    "        img_embedding = img_perceptor(torch.rand(1, 3, 224, 224))\n",
    "        B, P = img_embedding.shape\n",
    "\n",
    "        from torch.nn import TransformerEncoder, TransformerEncoderLayer\n",
    "        dims = {\n",
    "            'P': P,  # perception embedding dim\n",
    "            'V': prompt_embedding.num_embeddings,  # num of prompt tokens\n",
    "            'd': prompt_embedding.embedding_dim,  # prompt tokens embedding\n",
    "            'L': target_embedding.num_embeddings,  # num of target toekns\n",
    "            'c': target_embedding.embedding_dim  # target tokens embedding\n",
    "        }\n",
    "        self.dims = dims\n",
    "        self.prompt_embedding = prompt_embedding\n",
    "        self.target_embedding = target_embedding\n",
    "\n",
    "        # The operators operator\n",
    "        # Given an embedded prompt, output a P --> c operator\n",
    "        self.W_op = nn.Parameter(torch.Tensor(dims['d'], dims['P'], dims['c']))\n",
    "        nn.init.kaiming_uniform_(self.W_op, a=math.sqrt(5))\n",
    "\n",
    "        self.layer_norm = nn.LayerNorm([dims['c']])\n",
    "\n",
    "    def forward(self, prompt, img):\n",
    "        if len(prompt.shape) == 1:\n",
    "            prompt = prompt.view(-1, 1)\n",
    "        prompt_encoded = self.prompt_embedding(prompt)  # [B x N_prompt x d]\n",
    "        prompt_encoded = torch.sum(prompt_encoded, dim=1)  # [B x d]\n",
    "        prompts_ops = torch.einsum('bd,dpc->bpc', prompt_encoded, self.W_op)  # [B x P x c]\n",
    "\n",
    "        img_features = self.img_perceptor(img)  # [B, P]\n",
    "\n",
    "        # pred_embeded = F.linear(img_features, prompt_op.T)  # [B, c]\n",
    "        pred_embeded = torch.einsum('bp,bpc->bc', img_features, prompts_ops) # [B, c]\n",
    "\n",
    "        pred_embeded = self.layer_norm(pred_embeded)\n",
    "\n",
    "        t_embeddings = self.target_embedding.weight\n",
    "        logits = pred_embeded @ t_embeddings.T\n",
    "        return logits"
   ]
  },
  {
   "cell_type": "code",
   "execution_count": 6,
   "metadata": {},
   "outputs": [
    {
     "name": "stderr",
     "output_type": "stream",
     "text": [
      "[epoch=0, train_acc=0.10, dev_acc=0.00] loss: 2.590: 100%|██████████| 4/4 [00:12<00:00,  3.25s/it]\n",
      "[epoch=1, train_acc=0.24, dev_acc=0.00] loss: 2.350: 100%|██████████| 4/4 [00:14<00:00,  3.60s/it]\n",
      "[epoch=2, train_acc=0.24, dev_acc=0.00] loss: 2.109: 100%|██████████| 4/4 [00:13<00:00,  3.30s/it]\n"
     ]
    }
   ],
   "source": [
    "import numpy as np\n",
    "import torch\n",
    "import torch.nn as nn\n",
    "import torchvision as tv\n",
    "\n",
    "seed = 1\n",
    "np.random.seed(seed)\n",
    "torch.manual_seed(seed)\n",
    "\n",
    "viz_model = models.VQAPromptOpModel.build(d=2, dataset=train_dataset, c=5)\n",
    "\n",
    "optimizer = torch.optim.Adam(viz_model.parameters(), lr=1e-3)\n",
    "\n",
    "my_trainer = trainers.ImageClassifierTrainer()\n",
    "train_loss, train_acc, dev_acc = my_trainer.train(\n",
    "    viz_model, train_dataset, dev_dataset, \n",
    "    optimizer, num_epochs=3, batch_size=32\n",
    ")"
   ]
  },
  {
   "cell_type": "code",
   "execution_count": 7,
   "metadata": {},
   "outputs": [
    {
     "data": {
      "image/png": "[encoded data removed]",
      "text/plain": [
       "<Figure size 1080x432 with 2 Axes>"
      ]
     },
     "metadata": {
      "needs_background": "light"
     },
     "output_type": "display_data"
    }
   ],
   "source": [
    "viz.plot_training(train_loss, train_acc, dev_acc)"
   ]
  },
  {
   "cell_type": "code",
   "execution_count": 8,
   "metadata": {},
   "outputs": [
    {
     "name": "stdout",
     "output_type": "stream",
     "text": [
      "Which shape is this?\n",
      "True: triangle\n",
      "Pred: triangle\n"
     ]
    },
    {
     "data": {
      "image/png": "[encoded data removed]",
      "text/plain": [
       "<Figure size 432x288 with 1 Axes>"
      ]
     },
     "metadata": {
      "needs_background": "light"
     },
     "output_type": "display_data"
    }
   ],
   "source": [
    "viz.test_sample(viz_model, train_dataset, sample_idx=2)"
   ]
  },
  {
   "cell_type": "code",
   "execution_count": 9,
   "metadata": {},
   "outputs": [
    {
     "data": {
      "image/png": "[encoded data removed]",
      "text/plain": [
       "<Figure size 540x432 with 2 Axes>"
      ]
     },
     "metadata": {
      "needs_background": "light"
     },
     "output_type": "display_data"
    }
   ],
   "source": [
    "eval_res = my_trainer.get_predictions(viz_model, train_dataset).numpy()\n",
    "\n",
    "y_true = eval_res[:, 1]\n",
    "y_pred = eval_res[:, 2]\n",
    "labels = list(train_dataset.cls_to_idx.keys())\n",
    "\n",
    "viz.plot_conf_mat(y_true, y_pred, labels)"
   ]
  },
  {
   "cell_type": "code",
   "execution_count": null,
   "metadata": {},
   "outputs": [],
   "source": []
  }
 ],
 "metadata": {
  "kernelspec": {
   "display_name": "curriculum_vqa",
   "language": "python",
   "name": "curriculum_vqa"
  },
  "language_info": {
   "codemirror_mode": {
    "name": "ipython",
    "version": 3
   },
   "file_extension": ".py",
   "mimetype": "text/x-python",
   "name": "python",
   "nbconvert_exporter": "python",
   "pygments_lexer": "ipython3",
   "version": "3.8.1"
  }
 },
 "nbformat": 4,
 "nbformat_minor": 4
}
