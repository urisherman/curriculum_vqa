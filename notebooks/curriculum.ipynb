{
 "cells": [
  {
   "cell_type": "code",
   "execution_count": 1,
   "metadata": {},
   "outputs": [],
   "source": [
    "%load_ext autoreload\n",
    "%autoreload 2"
   ]
  },
  {
   "cell_type": "code",
   "execution_count": 2,
   "metadata": {},
   "outputs": [],
   "source": [
    "import numpy as np\n",
    "import matplotlib.pyplot as plt\n",
    "_include_('curriculum_vqa')\n"
   ]
  },
  {
   "cell_type": "code",
   "execution_count": 7,
   "metadata": {},
   "outputs": [
    {
     "name": "stdout",
     "output_type": "stream",
     "text": [
      "{'color': 'blue', 'location': [0.13, 0.61], 'shape': 'circle', 'size': 0.1}\n",
      "[   {   'concept': 'shape',\n",
      "        'prompt': 'The thing you see is not blue',\n",
      "        'target': 'FALSE'}]\n"
     ]
    }
   ],
   "source": [
    "from cvqa.curriculum import plotter, VQAInstanceDistribution\n",
    "\n",
    "vqa_dist = VQAInstanceDistribution()\n",
    "vizrep = vqa_dist.sample_viz_rep()\n",
    "s = vqa_dist.sample_prompt(vizrep)\n",
    "\n",
    "import pprint\n",
    "pp = pprint.PrettyPrinter(indent=4)\n",
    "pp.pprint(vizrep)\n",
    "pp.pprint(s)"
   ]
  },
  {
   "cell_type": "code",
   "execution_count": 8,
   "metadata": {},
   "outputs": [],
   "source": [
    "vizreps = []\n",
    "for i in range(7):\n",
    "    vizreps.append(vqa_dist.sample_viz_rep())"
   ]
  },
  {
   "cell_type": "code",
   "execution_count": 9,
   "metadata": {},
   "outputs": [
    {
     "ename": "NameError",
     "evalue": "name 'torch' is not defined",
     "output_type": "error",
     "traceback": [
      "\u001b[0;31m---------------------------------------------------------------------------\u001b[0m",
      "\u001b[0;31mNameError\u001b[0m                                 Traceback (most recent call last)",
      "\u001b[0;32m<ipython-input-9-06e359bb4625>\u001b[0m in \u001b[0;36m<module>\u001b[0;34m\u001b[0m\n\u001b[0;32m----> 1\u001b[0;31m \u001b[0mtorch\u001b[0m\u001b[0;34m\u001b[0m\u001b[0;34m\u001b[0m\u001b[0m\n\u001b[0m",
      "\u001b[0;31mNameError\u001b[0m: name 'torch' is not defined"
     ]
    }
   ],
   "source": [
    "torch"
   ]
  },
  {
   "cell_type": "code",
   "execution_count": 15,
   "metadata": {},
   "outputs": [],
   "source": [
    "# from cvqa import models\n",
    "\n",
    "# m = models.StructuredImageModel(vizreps, 5, output_channels=6)"
   ]
  },
  {
   "cell_type": "code",
   "execution_count": 25,
   "metadata": {},
   "outputs": [],
   "source": [
    "from cvqa import datasets, viz\n",
    "\n",
    "data_bin = f'{DEV_HOME}/curriculum_vqa/data-bin'\n",
    "\n",
    "train_dataset = datasets.NLVR(f'{data_bin}/nlvr', 'train', limit=100)"
   ]
  },
  {
   "cell_type": "code",
   "execution_count": 27,
   "metadata": {},
   "outputs": [
    {
     "data": {
      "image/png": "[encoded data removed]",
      "text/plain": [
       "<Figure size 432x288 with 1 Axes>"
      ]
     },
     "metadata": {
      "needs_background": "light"
     },
     "output_type": "display_data"
    }
   ],
   "source": [
    "viz.imshow(train_dataset[1]['img'])"
   ]
  },
  {
   "cell_type": "code",
   "execution_count": 28,
   "metadata": {},
   "outputs": [
    {
     "data": {
      "text/plain": [
       "{'sentence': 'There are 2 yellow blocks',\n",
       " 'label': 'true',\n",
       " 'identifier': '2170-1',\n",
       " 'directory': '17',\n",
       " 'evals': {'r1': 'true'},\n",
       " 'structured_rep': [[{'y_loc': 80,\n",
       "    'size': 20,\n",
       "    'type': 'square',\n",
       "    'x_loc': 40,\n",
       "    'color': 'Black'}],\n",
       "  [{'y_loc': 80,\n",
       "    'size': 20,\n",
       "    'type': 'square',\n",
       "    'x_loc': 40,\n",
       "    'color': '#0099ff'}],\n",
       "  [{'y_loc': 80, 'size': 20, 'type': 'square', 'x_loc': 40, 'color': 'Black'},\n",
       "   {'y_loc': 59, 'size': 20, 'type': 'square', 'x_loc': 40, 'color': 'Yellow'},\n",
       "   {'y_loc': 38,\n",
       "    'size': 20,\n",
       "    'type': 'square',\n",
       "    'x_loc': 40,\n",
       "    'color': 'Yellow'}]],\n",
       " 'prompt': 'There are 2 yellow blocks',\n",
       " 'target': 'true',\n",
       " 'image_path': 'images/17/train-2170-1-0.png',\n",
       " 'encoded_prompt': tensor([ 4, 14, 15, 16, 17,  2]),\n",
       " 'encoded_target': tensor([13,  2])}"
      ]
     },
     "execution_count": 28,
     "metadata": {},
     "output_type": "execute_result"
    }
   ],
   "source": [
    "train_dataset.samples[1]"
   ]
  }
 ],
 "metadata": {
  "kernelspec": {
   "display_name": "curriculum_vqa",
   "language": "python",
   "name": "curriculum_vqa"
  },
  "language_info": {
   "codemirror_mode": {
    "name": "ipython",
    "version": 3
   },
   "file_extension": ".py",
   "mimetype": "text/x-python",
   "name": "python",
   "nbconvert_exporter": "python",
   "pygments_lexer": "ipython3",
   "version": "3.8.1"
  }
 },
 "nbformat": 4,
 "nbformat_minor": 4
}
