{
 "cells": [
  {
   "cell_type": "code",
   "execution_count": 4,
   "metadata": {},
   "outputs": [],
   "source": [
    "%load_ext autoreload\n",
    "%autoreload 2"
   ]
  },
  {
   "cell_type": "code",
   "execution_count": 1,
   "metadata": {},
   "outputs": [],
   "source": [
    "import numpy as np\n",
    "import matplotlib.pyplot as plt\n",
    "_include_('curriculum_vqa')\n",
    "from cvqa import teacher\n"
   ]
  },
  {
   "cell_type": "code",
   "execution_count": 96,
   "metadata": {},
   "outputs": [
    {
     "name": "stdout",
     "output_type": "stream",
     "text": [
      "{'color': 'grey', 'location': [0.16, 0.86], 'shape': 'triangle', 'size': 0.13}\n",
      "[   {   'answer': 'grey',\n",
      "        'prompt': 'What is the color of this item?',\n",
      "        'realized_synonyms': {'image': 'picture', 'item': 'item'}}]\n"
     ]
    }
   ],
   "source": [
    "from cvqa.curriculum import VQAInstanceDistribution\n",
    "\n",
    "vqa_dist = VQAInstanceDistribution()\n",
    "vizrep = vqa_dist.sample_viz_rep()\n",
    "s = vqa_dist.sample_prompt(vizrep)\n",
    "\n",
    "import pprint\n",
    "pp = pprint.PrettyPrinter(indent=4)\n",
    "pp.pprint(vizrep)\n",
    "pp.pprint(s)"
   ]
  },
  {
   "cell_type": "code",
   "execution_count": 98,
   "metadata": {},
   "outputs": [
    {
     "data": {
      "text/plain": [
       "3"
      ]
     },
     "execution_count": 98,
     "metadata": {},
     "output_type": "execute_result"
    }
   ],
   "source": [
    "10 // 3"
   ]
  },
  {
   "cell_type": "code",
   "execution_count": null,
   "metadata": {},
   "outputs": [],
   "source": []
  },
  {
   "cell_type": "code",
   "execution_count": null,
   "metadata": {},
   "outputs": [],
   "source": []
  },
  {
   "cell_type": "code",
   "execution_count": null,
   "metadata": {},
   "outputs": [],
   "source": []
  },
  {
   "cell_type": "code",
   "execution_count": null,
   "metadata": {},
   "outputs": [],
   "source": []
  },
  {
   "cell_type": "code",
   "execution_count": 3,
   "metadata": {},
   "outputs": [],
   "source": [
    "def make_training_samples(viz_rep, image_path):\n",
    "\n",
    "    def populate(qa_pair, viz_rep):\n",
    "        for k in ['shape', 'color']:\n",
    "            v = viz_rep[k]\n",
    "            qa_pair[0] = re.sub(f'\\[{k}\\]', v, qa_pair[0])\n",
    "            qa_pair[1] = re.sub(f'\\[{k}\\]', v, qa_pair[1])\n",
    "        return qa_pair\n",
    "\n",
    "    samples = []\n",
    "\n",
    "    for q in QUESTIONS:\n",
    "        qa_pair = [q[1], q[2]]\n",
    "        populated_qa = populate(qa_pair, viz_rep)\n",
    "        samples.append({\n",
    "            'viz_rep': viz_rep,\n",
    "            'image_path': image_path,\n",
    "            'concept': q[0],\n",
    "            'question': populated_qa[0],\n",
    "            'answer': populated_qa[1]\n",
    "        })\n",
    "\n",
    "    return samples"
   ]
  },
  {
   "cell_type": "code",
   "execution_count": null,
   "metadata": {},
   "outputs": [],
   "source": []
  }
 ],
 "metadata": {
  "kernelspec": {
   "display_name": "curriculum_vqa",
   "language": "python",
   "name": "curriculum_vqa"
  },
  "language_info": {
   "codemirror_mode": {
    "name": "ipython",
    "version": 3
   },
   "file_extension": ".py",
   "mimetype": "text/x-python",
   "name": "python",
   "nbconvert_exporter": "python",
   "pygments_lexer": "ipython3",
   "version": "3.8.1"
  }
 },
 "nbformat": 4,
 "nbformat_minor": 4
}
