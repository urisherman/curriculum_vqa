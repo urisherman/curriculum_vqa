{
 "cells": [
  {
   "cell_type": "code",
   "execution_count": 1,
   "metadata": {},
   "outputs": [],
   "source": [
    "%load_ext autoreload\n",
    "%autoreload 2"
   ]
  },
  {
   "cell_type": "code",
   "execution_count": 2,
   "metadata": {},
   "outputs": [],
   "source": [
    "import numpy as np\n",
    "import matplotlib.pyplot as plt\n",
    "_include_('curriculum_vqa')"
   ]
  },
  {
   "cell_type": "code",
   "execution_count": 43,
   "metadata": {},
   "outputs": [
    {
     "name": "stdout",
     "output_type": "stream",
     "text": [
      "{   'objects': [   {   'color': 'blue',\n",
      "                       'location': [0.45, 0.82],\n",
      "                       'shape': 'circle',\n",
      "                       'size': 0.09},\n",
      "                   {   'color': 'grey',\n",
      "                       'location': [0.87, 0.3],\n",
      "                       'shape': 'triangle',\n",
      "                       'size': 0.06},\n",
      "                   {   'color': 'grey',\n",
      "                       'location': [0.33, 0.56],\n",
      "                       'shape': 'circle',\n",
      "                       'size': 0.12},\n",
      "                   {   'color': 'red',\n",
      "                       'location': [0.88, 0.81],\n",
      "                       'shape': 'triangle',\n",
      "                       'size': 0.06}]}\n",
      "[   {   'concept': 'shape',\n",
      "        'prompt': 'The thing you see is not blue',\n",
      "        'target': 'FALSE'}]\n"
     ]
    }
   ],
   "source": [
    "from cvqa.curriculum import plotter, VQAInstanceDistribution\n",
    "\n",
    "vqa_dist = VQAInstanceDistribution()\n",
    "vizrep = vqa_dist.sample_viz_rep()\n",
    "s = vqa_dist.sample_prompt(vizrep)\n",
    "\n",
    "import pprint\n",
    "pp = pprint.PrettyPrinter(indent=4)\n",
    "pp.pprint(vizrep)\n",
    "pp.pprint(s)"
   ]
  },
  {
   "cell_type": "code",
   "execution_count": 44,
   "metadata": {},
   "outputs": [
    {
     "data": {
      "image/png": "[encoded data removed]",
      "text/plain": [
       "<Figure size 360x360 with 1 Axes>"
      ]
     },
     "metadata": {
      "needs_background": "light"
     },
     "output_type": "display_data"
    }
   ],
   "source": [
    "plotter.draw(vizrep);"
   ]
  },
  {
   "cell_type": "code",
   "execution_count": 13,
   "metadata": {},
   "outputs": [],
   "source": [
    "vizreps = []\n",
    "for i in range(7):\n",
    "    vizreps.append(vqa_dist.sample_viz_rep())"
   ]
  },
  {
   "cell_type": "code",
   "execution_count": 14,
   "metadata": {},
   "outputs": [
    {
     "data": {
      "text/plain": [
       "[{'objects': [{'location': [0.77, 0.6],\n",
       "    'size': 0.13,\n",
       "    'shape': 'circle',\n",
       "    'color': 'grey'}]},\n",
       " {'objects': [{'location': [0.77, 0.18],\n",
       "    'size': 0.08,\n",
       "    'shape': 'triangle',\n",
       "    'color': 'grey'}]},\n",
       " {'objects': [{'location': [0.54, 0.7],\n",
       "    'size': 0.16,\n",
       "    'shape': 'circle',\n",
       "    'color': 'blue'}]},\n",
       " {'objects': [{'location': [0.9, 0.28],\n",
       "    'size': 0.08,\n",
       "    'shape': 'circle',\n",
       "    'color': 'red'}]},\n",
       " {'objects': [{'location': [0.49, 0.77],\n",
       "    'size': 0.14,\n",
       "    'shape': 'triangle',\n",
       "    'color': 'grey'}]},\n",
       " {'objects': [{'location': [0.12, 0.68],\n",
       "    'size': 0.06,\n",
       "    'shape': 'triangle',\n",
       "    'color': 'blue'}]},\n",
       " {'objects': [{'location': [0.41, 0.72],\n",
       "    'size': 0.07,\n",
       "    'shape': 'circle',\n",
       "    'color': 'blue'}]}]"
      ]
     },
     "execution_count": 14,
     "metadata": {},
     "output_type": "execute_result"
    }
   ],
   "source": [
    "vizreps"
   ]
  },
  {
   "cell_type": "code",
   "execution_count": null,
   "metadata": {},
   "outputs": [],
   "source": []
  }
 ],
 "metadata": {
  "kernelspec": {
   "display_name": "curriculum_vqa",
   "language": "python",
   "name": "curriculum_vqa"
  },
  "language_info": {
   "codemirror_mode": {
    "name": "ipython",
    "version": 3
   },
   "file_extension": ".py",
   "mimetype": "text/x-python",
   "name": "python",
   "nbconvert_exporter": "python",
   "pygments_lexer": "ipython3",
   "version": "3.8.1"
  }
 },
 "nbformat": 4,
 "nbformat_minor": 4
}
