{
 "cells": [
  {
   "cell_type": "code",
   "execution_count": 107,
   "metadata": {},
   "outputs": [
    {
     "name": "stdout",
     "output_type": "stream",
     "text": [
      "The autoreload extension is already loaded. To reload it, use:\n",
      "  %reload_ext autoreload\n"
     ]
    }
   ],
   "source": [
    "%load_ext autoreload\n",
    "%autoreload 2"
   ]
  },
  {
   "cell_type": "code",
   "execution_count": 123,
   "metadata": {},
   "outputs": [],
   "source": [
    "import numpy as np\n",
    "import matplotlib.pyplot as plt\n",
    "_include_('curriculum_vqa')\n",
    "from cvqa import teacher\n"
   ]
  },
  {
   "cell_type": "code",
   "execution_count": 124,
   "metadata": {},
   "outputs": [
    {
     "name": "stdout",
     "output_type": "stream",
     "text": [
      "{'color': 'blue', 'location': [0.35, 0.73], 'shape': 'circle', 'size': 0.22}\n",
      "[   {   'concept': 'color',\n",
      "        'prompt': 'The color of the object in the picture is...?',\n",
      "        'target': 'blue'}]\n"
     ]
    }
   ],
   "source": [
    "from cvqa.curriculum import plotter, VQAInstanceDistribution\n",
    "\n",
    "vqa_dist = VQAInstanceDistribution()\n",
    "vizrep = vqa_dist.sample_viz_rep()\n",
    "s = vqa_dist.sample_prompt(vizrep)\n",
    "\n",
    "import pprint\n",
    "pp = pprint.PrettyPrinter(indent=4)\n",
    "pp.pprint(vizrep)\n",
    "pp.pprint(s)"
   ]
  },
  {
   "cell_type": "code",
   "execution_count": 140,
   "metadata": {},
   "outputs": [],
   "source": [
    "vizreps = []\n",
    "for i in range(7):\n",
    "    vizreps.append(vqa_dist.sample_viz_rep())"
   ]
  },
  {
   "cell_type": "code",
   "execution_count": 141,
   "metadata": {},
   "outputs": [
    {
     "data": {
      "text/plain": [
       "{'color': {'blue': 0, 'grey': 1, 'red': 2},\n",
       " 'shape': {'circle': 0, 'triangle': 1}}"
      ]
     },
     "execution_count": 141,
     "metadata": {},
     "output_type": "execute_result"
    }
   ],
   "source": [
    "from cvqa import models\n",
    "\n",
    "m = models.StructuredImageModel(vizreps, 5, output_channels=6)\n",
    "m.features"
   ]
  },
  {
   "cell_type": "code",
   "execution_count": 142,
   "metadata": {},
   "outputs": [
    {
     "data": {
      "text/plain": [
       "{'color': {'blue': tensor([[1, 0, 0, 0, 0]]),\n",
       "  'grey': tensor([[0, 1, 0, 0, 0]]),\n",
       "  'red': tensor([[0, 0, 1, 0, 0]])},\n",
       " 'shape': {'circle': tensor([[1, 0, 0, 0, 0]]),\n",
       "  'triangle': tensor([[0, 1, 0, 0, 0]])}}"
      ]
     },
     "execution_count": 142,
     "metadata": {},
     "output_type": "execute_result"
    }
   ],
   "source": [
    "m.feat_tensors"
   ]
  },
  {
   "cell_type": "code",
   "execution_count": 143,
   "metadata": {},
   "outputs": [
    {
     "data": {
      "text/plain": [
       "tensor([[1, 0, 0, 0, 0],\n",
       "        [0, 1, 0, 0, 0],\n",
       "        [0, 0, 1, 0, 0],\n",
       "        [0, 0, 0, 1, 0],\n",
       "        [0, 0, 0, 0, 1]])"
      ]
     },
     "execution_count": 143,
     "metadata": {},
     "output_type": "execute_result"
    }
   ],
   "source": [
    "import torch\n",
    "import torch.nn.functional as F\n",
    "\n",
    "oh = F.one_hot(torch.arange(5))\n",
    "oh"
   ]
  },
  {
   "cell_type": "code",
   "execution_count": 144,
   "metadata": {},
   "outputs": [
    {
     "name": "stdout",
     "output_type": "stream",
     "text": [
      "tensor([1, 0, 0, 0, 0])\n",
      "tensor([0, 1, 0, 0, 0])\n",
      "tensor([0, 0, 1, 0, 0])\n",
      "tensor([1, 0, 0, 0, 0])\n",
      "tensor([0, 1, 0, 0, 0])\n"
     ]
    }
   ],
   "source": [
    "for f in m.features:\n",
    "    vals = m.features[f]\n",
    "    for v in vals:\n",
    "        print(oh[vals[v]])"
   ]
  },
  {
   "cell_type": "code",
   "execution_count": 145,
   "metadata": {},
   "outputs": [
    {
     "data": {
      "text/plain": [
       "torch.Size([7, 6, 5])"
      ]
     },
     "execution_count": 145,
     "metadata": {},
     "output_type": "execute_result"
    }
   ],
   "source": [
    "m(None, structured_reps=vizreps).shape"
   ]
  },
  {
   "cell_type": "code",
   "execution_count": null,
   "metadata": {},
   "outputs": [],
   "source": []
  }
 ],
 "metadata": {
  "kernelspec": {
   "display_name": "curriculum_vqa",
   "language": "python",
   "name": "curriculum_vqa"
  },
  "language_info": {
   "codemirror_mode": {
    "name": "ipython",
    "version": 3
   },
   "file_extension": ".py",
   "mimetype": "text/x-python",
   "name": "python",
   "nbconvert_exporter": "python",
   "pygments_lexer": "ipython3",
   "version": "3.8.1"
  }
 },
 "nbformat": 4,
 "nbformat_minor": 4
}
