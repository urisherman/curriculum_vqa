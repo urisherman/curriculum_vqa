{
 "cells": [
  {
   "cell_type": "code",
   "execution_count": 1,
   "metadata": {},
   "outputs": [],
   "source": [
    "%load_ext autoreload\n",
    "%autoreload 2"
   ]
  },
  {
   "cell_type": "code",
   "execution_count": 2,
   "metadata": {},
   "outputs": [],
   "source": [
    "import numpy as np\n",
    "import torch\n",
    "import torch.nn as nn\n",
    "\n",
    "_include_('curriculum_vqa')\n",
    "_include_('commons')\n",
    "\n",
    "seed = 1\n",
    "np.random.seed(seed)\n",
    "torch.manual_seed(seed);\n",
    "\n",
    "from cvqa import datasets, models, trainers, viz\n",
    "from commons import debug\n",
    "\n",
    "data_bin = f'{DEV_HOME}/curriculum_vqa/data-bin'"
   ]
  },
  {
   "cell_type": "code",
   "execution_count": 35,
   "metadata": {},
   "outputs": [
    {
     "data": {
      "text/plain": [
       "[<matplotlib.lines.Line2D at 0x13f86e8e0>]"
      ]
     },
     "execution_count": 35,
     "metadata": {},
     "output_type": "execute_result"
    },
    {
     "data": {
      "image/png": "[encoded data removed]",
      "text/plain": [
       "<Figure size 432x288 with 1 Axes>"
      ]
     },
     "metadata": {
      "needs_background": "light"
     },
     "output_type": "display_data"
    }
   ],
   "source": [
    "import matplotlib.pyplot as plt\n",
    "\n",
    "x = np.linspace(2, 3)\n",
    "\n",
    "f = 1/np.log(x)\n",
    "\n",
    "\n",
    "plt.plot(x, np.exp(-f));\n",
    "plt.plot(x, f)"
   ]
  },
  {
   "cell_type": "code",
   "execution_count": 3,
   "metadata": {},
   "outputs": [
    {
     "data": {
      "text/plain": [
       "tensor([[0.7576, 0.2793, 0.6387, 0.5247, 0.6826, 0.3051, 0.4635],\n",
       "        [0.4031, 0.7347, 0.4550, 0.5725, 0.4980, 0.9371, 0.6556],\n",
       "        [0.0293, 0.7999, 0.3138, 0.1980, 0.4162, 0.2843, 0.3398],\n",
       "        [0.3971, 0.7544, 0.5239, 0.7981, 0.7718, 0.0112, 0.8100],\n",
       "        [0.5695, 0.4388, 0.6397, 0.9743, 0.8300, 0.0444, 0.0246]])"
      ]
     },
     "execution_count": 3,
     "metadata": {},
     "output_type": "execute_result"
    }
   ],
   "source": [
    "torch.cat([\n",
    "    torch.rand(5, 2),\n",
    "    torch.rand(5, 5),\n",
    "], dim=1)"
   ]
  },
  {
   "cell_type": "code",
   "execution_count": 8,
   "metadata": {},
   "outputs": [
    {
     "data": {
      "text/plain": [
       "tensor([[1., 0., 0., 0., 0., 0., 0.],\n",
       "        [1., 0., 0., 0., 0., 0., 0.],\n",
       "        [1., 0., 0., 0., 0., 0., 0.],\n",
       "        [1., 0., 0., 0., 0., 0., 0.],\n",
       "        [1., 0., 0., 0., 0., 0., 0.]])"
      ]
     },
     "execution_count": 8,
     "metadata": {},
     "output_type": "execute_result"
    }
   ],
   "source": [
    "a = torch.ones(5, 7)\n",
    "a[:,1:] = 0\n",
    "a"
   ]
  },
  {
   "cell_type": "code",
   "execution_count": 20,
   "metadata": {},
   "outputs": [
    {
     "data": {
      "text/plain": [
       "tensor([[1., 0., 0., 0., 0., 0., 0.],\n",
       "        [1., 0., 0., 0., 0., 0., 0.]])"
      ]
     },
     "execution_count": 20,
     "metadata": {},
     "output_type": "execute_result"
    }
   ],
   "source": [
    "mask = torch.zeros(5, dtype=torch.bool)\n",
    "mask[1] = 1\n",
    "mask[2] = 1\n",
    "a[mask]"
   ]
  },
  {
   "cell_type": "code",
   "execution_count": null,
   "metadata": {},
   "outputs": [],
   "source": [
    "y = torch.ones"
   ]
  },
  {
   "cell_type": "markdown",
   "metadata": {},
   "source": [
    "## Basic Model Specification\n",
    "\n",
    "Concepts (red, block, triangle)\n",
    "* $c \\in [C]$ denotes a Concept Symbol\n",
    "* $v_c \\in \\mathbb R^{d_c}$ a concept vector\n",
    "* $E_c \\in \\mathbb R^{d_c \\times C}$ the concepts embedding matrix\n",
    "\n",
    "Concept Categories (shape, color)\n",
    "* $k \\in [K]$ denotes a Concept Category (color, shape)\n",
    "* $v_k \\in \\mathbb R^{d_k}$ a concept category vector\n",
    "* $E_k \\in \\mathbb R^{d_k \\times K}$ the concept categories embedding matrix\n",
    "\n",
    "Relations (contains, below, above)\n",
    "* $r \\in [R]$ denotes a relational concept Symbol\n",
    "* $v_r \\in \\mathbb R^{d_r}$ a concept vector\n",
    "* $E_r \\in \\mathbb R^{d_r \\times R}$ the relations embedding matrix\n",
    "\n",
    "\n",
    "\n",
    "Others\n",
    "* $o \\in \\mathbb R^{d_o}$ denotes a visual object.\n",
    "* $Q \\in \\mathbb R^{d_o \\times d_c \\times d_k}$ - The concept operators matrix.\n",
    "\n",
    "\n",
    "$ W_k = Q^\\top v_k $\n",
    "\n",
    "$k(o) = softmax(o^\\top W_k)$  // Gives the concept distribution for category k (eg color) of object o (eg the 3rd object in the scene)"
   ]
  },
  {
   "cell_type": "code",
   "execution_count": 3,
   "metadata": {},
   "outputs": [],
   "source": [
    "from torch.nn import functional as F\n",
    "\n",
    "C = 100\n",
    "\n",
    "B = 32\n",
    "\n",
    "d = {\n",
    "    'B': 32,\n",
    "    \n",
    "    'o': 16,\n",
    "    'c': 40,\n",
    "    'k': 4,\n",
    "    'r': 25,\n",
    "    'ak': 29,\n",
    "    'av': 21,\n",
    "    \n",
    "    'w': 44,\n",
    "    'a': 45,\n",
    "    \n",
    "    'N_o': 7,\n",
    "    'N_p': 3\n",
    "}\n",
    "\n",
    "d_reversed = {v: k for k, v in d.items()}\n",
    "def shape(t):\n",
    "    return list(map(lambda dim: d_reversed.get(dim, dim), t.shape))\n",
    "    \n",
    "# shape(torch.rand(d['c'], d['o']))"
   ]
  },
  {
   "cell_type": "code",
   "execution_count": 4,
   "metadata": {},
   "outputs": [],
   "source": [
    "E_c = torch.rand(C, d['c'])\n",
    "W_kc = torch.rand(d['k'], d['c'])\n",
    "\n",
    "C_ops = torch.rand(d['o'], d['c'], d['k'])\n",
    "Q_ops = torch.rand(d['o'], d['a'], d['k'])\n",
    "\n",
    "N_o = 7\n",
    "N_p = 3\n",
    "X = torch.rand(B, N_o, d['o'])\n",
    "X_weights_in_1 = torch.ones(d['B'], d['N_o'])\n",
    "X_weights_in_2 = torch.ones(d['B'], d['N_o'])\n",
    "X_weights_in = X_weights_in_1\n"
   ]
  },
  {
   "cell_type": "code",
   "execution_count": 5,
   "metadata": {},
   "outputs": [],
   "source": [
    "def get_op(op_seed, op_mat):\n",
    "    \"\"\"\n",
    "    op_seed: [B, d_op]\n",
    "    op_mat: [d_in, d_out, d_op]\n",
    "    \"\"\"\n",
    "    d_in, d_out, d_op = op_mat.shape\n",
    "    W = F.linear(op_seed, op_mat.reshape(-1, d_op))  # [B, d_out * d_in]\n",
    "    \n",
    "    return W.reshape(B, d_in, d_out)"
   ]
  },
  {
   "cell_type": "code",
   "execution_count": 6,
   "metadata": {},
   "outputs": [],
   "source": [
    "# question_op = torch.rand(B, d['k'])\n",
    "\n",
    "# W_answer = get_op(question_op, Q_ops)  # [B, o, a]\n",
    "    \n",
    "# weighted_X = torch.matmul(X_weights_in.unsqueeze(1), X).squeeze()  # [B, o]\n",
    "\n",
    "# logits = torch.matmul(weighted_X.unsqueeze(1), W_answer)\n",
    "# shape(logits)"
   ]
  },
  {
   "cell_type": "code",
   "execution_count": 7,
   "metadata": {},
   "outputs": [
    {
     "data": {
      "text/plain": [
       "['B', 'a']"
      ]
     },
     "execution_count": 7,
     "metadata": {},
     "output_type": "execute_result"
    }
   ],
   "source": [
    "def answer_module(X, X_weights_in, question_op):\n",
    "    \"\"\"\n",
    "    X: [B, N_o, d_o]\n",
    "    X_weights_in: [B, N_o]\n",
    "    question_op: [B, d_k]\n",
    "    \"\"\"\n",
    "    W_answer = get_op(question_op, Q_ops)  # [o, a]\n",
    "    \n",
    "    weighted_X = torch.matmul(X_weights_in.unsqueeze(1), X).squeeze()  # [B, o]\n",
    "    \n",
    "    logits = torch.matmul(weighted_X.unsqueeze(1), W_answer)\n",
    "    return logits.squeeze()\n",
    "    \n",
    "shape(answer_module(X, X_weights_in_1, torch.rand(B, d['k'])))"
   ]
  },
  {
   "cell_type": "code",
   "execution_count": 8,
   "metadata": {},
   "outputs": [
    {
     "data": {
      "text/plain": [
       "['B', 'N_o']"
      ]
     },
     "execution_count": 8,
     "metadata": {},
     "output_type": "execute_result"
    }
   ],
   "source": [
    "def f1_module(X, X_weights_in, op):\n",
    "    \"\"\"\n",
    "    X: [B, N_o, d_o]\n",
    "    X_weights_in: [B, N_o]\n",
    "    op: [B, d_c]\n",
    "    \"\"\"\n",
    "    \n",
    "    #### Concept Category Predicate\n",
    "\n",
    "    # 1) op seed --> batch of concept ops\n",
    "    P = op  # P for predicate \n",
    "    P_k = F.linear(P, W_kc)  # [B, d_k] P_k for predicate category (eg color)\n",
    "    P_k = get_op(P_k, C_ops)  # [B, d_o, d_c]\n",
    "\n",
    "    # 2) Apply derived concept op to each object\n",
    "    X_c = torch.matmul(torch.rand(B, N_o, d['o']), P_k)  # [B, N_o, d_c]\n",
    "\n",
    "    # 3) Compute cosine similarity in concept distribution space (is there a better way to do this?)\n",
    "    X_c_probs = F.softmax(torch.matmul(X_c, E_c.T), dim=-1) # [B, N_o, C]\n",
    "    P_c_probs = F.softmax(torch.matmul(P, E_c.T), dim=-1) # [B, C]\n",
    "    XP_res = torch.sum(X_c_probs * P_c_probs.unsqueeze(1), dim=-1)  # [B, N_o], holds the probability every object passes the predicate\n",
    "\n",
    "    \n",
    "    #### Logical Not? Other Structures?\n",
    "    return X_weights_in * XP_res\n",
    "\n",
    "op1 = torch.rand(B, d['c'])\n",
    "f1_res = f1_module(X, X_weights_in_1, op1)\n",
    "shape(f1_res)"
   ]
  },
  {
   "cell_type": "code",
   "execution_count": 9,
   "metadata": {},
   "outputs": [],
   "source": [
    "import math\n",
    "\n",
    "def attention(query, key, value, mask_weights=None, dropout=None):\n",
    "    \"\"\"\n",
    "    Copied and adjusted from the annotated transformer; https://nlp.seas.harvard.edu/2018/04/03/attention.html\n",
    "    \"\"\"\n",
    "    d_k = query.size(-1)\n",
    "    scores = torch.matmul(query, key.transpose(-2, -1)) / math.sqrt(d_k)\n",
    "    if mask_weights is not None:\n",
    "        scores += mask_weights.unsqueeze(1).log()\n",
    "        \n",
    "    p_attn = F.softmax(scores, dim = -1)\n",
    "    if dropout is not None:\n",
    "        p_attn = dropout(p_attn)\n",
    "    return torch.matmul(p_attn, value), p_attn"
   ]
  },
  {
   "cell_type": "code",
   "execution_count": 10,
   "metadata": {},
   "outputs": [],
   "source": [
    "A_ops_q = torch.rand(d['o'], d['ak'], d['r'])\n",
    "A_ops_k = torch.rand(d['o'], d['ak'], d['r'])\n",
    "A_ops_v = torch.rand(d['o'], d['av'], d['r'])\n",
    "\n",
    "A_W_res = torch.rand(d['av'], 2)\n",
    "\n",
    "# rel_op = torch.rand(B, d['r'])\n",
    "# W_q = get_op(rel_op, A_ops_q)\n",
    "# W_k = get_op(rel_op, A_ops_k)\n",
    "# W_v = get_op(rel_op, A_ops_v)\n",
    "\n",
    "\n",
    "# Q = torch.matmul(X, W_q)\n",
    "# K = torch.matmul(X, W_k)\n",
    "# V = torch.matmul(X, W_v)\n",
    "\n",
    "# X_weights_in_1 = torch.ones(d['B'], d['N_o'])\n",
    "# X_weights_in_2 = torch.ones(d['B'], d['N_o'])\n",
    "\n",
    "# shape(Q)"
   ]
  },
  {
   "cell_type": "code",
   "execution_count": 11,
   "metadata": {},
   "outputs": [],
   "source": [
    "# att_res, p_att = attention(Q, K, V, X_weights_in_2)\n",
    "\n",
    "# shape(att_res)\n",
    "\n",
    "# res = F.softmax(F.linear(att_res, A_W_res.T), dim=-1)\n",
    "# shape(res[:, :, 0])"
   ]
  },
  {
   "cell_type": "code",
   "execution_count": 12,
   "metadata": {},
   "outputs": [
    {
     "data": {
      "text/plain": [
       "['B', 'N_o']"
      ]
     },
     "execution_count": 12,
     "metadata": {},
     "output_type": "execute_result"
    }
   ],
   "source": [
    "def f2_module(X, X_weights_in_1, X_weights_in_2, rel_op):\n",
    "    \"\"\"\n",
    "    X: [B, N_o, d_o]\n",
    "    X_weights_in_1, X_weights_in_2: [B, N_o]\n",
    "    rel_op: [B, d_r]\n",
    "    \"\"\"\n",
    "    \n",
    "    # 1) op seed --> batch of attention parameters matrices\n",
    "    W_q = get_op(rel_op, A_ops_q)\n",
    "    W_k = get_op(rel_op, A_ops_k)\n",
    "    W_v = get_op(rel_op, A_ops_v)\n",
    "\n",
    "    Q = torch.matmul(X, W_q)\n",
    "    K = torch.matmul(X, W_k)\n",
    "    V = torch.matmul(X, W_v)\n",
    "    \n",
    "#     Q = Q * X_weights_in_1\n",
    "    \n",
    "    att_res, p_att = attention(Q, K, V, X_weights_in_2)\n",
    "    res = F.softmax(F.linear(att_res, A_W_res.T), dim=-1)\n",
    "    return res[:, :, 0] * X_weights_in_1\n",
    "\n",
    "\n",
    "\n",
    "rel_op = torch.rand(B, d['r'])\n",
    "\n",
    "f2_res = f2_module(X, X_weights_in_1, X_weights_in_2, rel_op)\n",
    "shape(f2_res)"
   ]
  },
  {
   "cell_type": "code",
   "execution_count": null,
   "metadata": {},
   "outputs": [],
   "source": []
  },
  {
   "cell_type": "code",
   "execution_count": null,
   "metadata": {},
   "outputs": [],
   "source": []
  },
  {
   "cell_type": "code",
   "execution_count": null,
   "metadata": {},
   "outputs": [],
   "source": []
  },
  {
   "cell_type": "code",
   "execution_count": null,
   "metadata": {},
   "outputs": [],
   "source": []
  },
  {
   "cell_type": "code",
   "execution_count": null,
   "metadata": {},
   "outputs": [],
   "source": []
  },
  {
   "cell_type": "code",
   "execution_count": null,
   "metadata": {},
   "outputs": [],
   "source": []
  },
  {
   "cell_type": "code",
   "execution_count": null,
   "metadata": {},
   "outputs": [],
   "source": []
  },
  {
   "cell_type": "code",
   "execution_count": null,
   "metadata": {},
   "outputs": [],
   "source": []
  },
  {
   "cell_type": "code",
   "execution_count": null,
   "metadata": {},
   "outputs": [],
   "source": []
  },
  {
   "cell_type": "code",
   "execution_count": 13,
   "metadata": {},
   "outputs": [],
   "source": [
    "# predicate = torch.rand(B, N_p, d_c)\n",
    "\n",
    "\n",
    "# def apply_predicate(X, P):\n",
    "#     # objects concepts index\n",
    "#     X_ck = torch.matmul(X.unsqueeze(1), Q)  # [B, d_c, N_o, d_k]\n",
    "#     X_ck = X_ck.transpose(1, 2) # [B, N_o, d_c, d_k]\n",
    "\n",
    "#     # predicate to categories\n",
    "#     P_k = F.linear(P, W_kc)  # [B, N_p, d_k]\n",
    "#     P_k = P_k.transpose(1, 2)  # [B, d_k, N_p]\n",
    "\n",
    "#     # [B, N_o, d_c, d_k]\n",
    "#     # [B, 1, d_k, N_p]\n",
    "\n",
    "#     X_pc = torch.matmul(X_ck, P_k.unsqueeze(1)) # [B, N_o, d_c, N_p]\n",
    "#     X_pc = X_pc.transpose(2, 3)  # [B, N_o, N_p, d_c]\n",
    "\n",
    "#     X_res = F.softmax(torch.matmul(X_pc, E_c.T), dim=-1) # [B, N_o, N_p, C]\n",
    "#     p_res = F.softmax(torch.matmul(P, E_c.T), dim=-1) # [B, N_p, C]\n",
    "\n",
    "#     # X_res holds O x P --> scores\n",
    "#     # p_res holds P --> scores\n",
    "\n",
    "#     return torch.prod((X_res * p_res.unsqueeze(1)).sum(dim=-1), dim=-1)\n",
    "\n",
    "# apply_predicate(X, predicate).shape"
   ]
  },
  {
   "cell_type": "code",
   "execution_count": null,
   "metadata": {},
   "outputs": [],
   "source": []
  },
  {
   "cell_type": "code",
   "execution_count": null,
   "metadata": {},
   "outputs": [],
   "source": [
    "# define attributes and their values\n",
    "# to sample an object, sum a few descriptive tokens and scramble by a random transformation\n",
    "# sample a set of N objects\n",
    "# sample attention mask pattern\n",
    "# Questions:\n",
    "#     How many {P}\n",
    "#     Is there a {P}\n",
    "#     Is there no {P}\n",
    "#     What color/shape/etc\n",
    "    "
   ]
  },
  {
   "cell_type": "code",
   "execution_count": 1,
   "metadata": {},
   "outputs": [],
   "source": [
    "# Get some word embeddings # 1h\n",
    "# Define attrs --> values # 1h\n",
    "# object sampler # 2h\n",
    "# "
   ]
  },
  {
   "cell_type": "code",
   "execution_count": 25,
   "metadata": {},
   "outputs": [],
   "source": [
    "import torch\n",
    "import itertools\n",
    "from torchnlp.encoders.text import WhitespaceEncoder\n",
    "from torchnlp.word_to_vector import GloVe\n",
    "\n",
    "concept_dict = {\n",
    "    'shape': ['triangle', 'circle', 'square'],\n",
    "    'color': ['blue', 'brown', 'cyan', 'gray', 'green', 'purple', 'red', 'yellow'],\n",
    "    'material': ['metal', 'rubber']\n",
    "}\n",
    "\n",
    "concept_keys = list(concept_dict.keys())\n",
    "concept_values = list(itertools.chain(*concept_dict.values()))\n",
    "\n",
    "\n",
    "encoder = WhitespaceEncoder(concept_keys + concept_values)\n",
    "vocab_set = set(encoder.vocab)"
   ]
  },
  {
   "cell_type": "code",
   "execution_count": 26,
   "metadata": {},
   "outputs": [
    {
     "name": "stderr",
     "output_type": "stream",
     "text": [
      "100%|██████████| 400000/400000 [00:02<00:00, 149225.72it/s]\n"
     ]
    }
   ],
   "source": [
    "pretrained_embedding = GloVe(name='6B', dim=100, is_include=lambda w: w in vocab_set)\n",
    "embedding_weights = torch.Tensor(encoder.vocab_size, pretrained_embedding.dim)\n",
    "for i, token in enumerate(encoder.vocab):\n",
    "    embedding_weights[i] = pretrained_embedding[token]"
   ]
  },
  {
   "cell_type": "code",
   "execution_count": 28,
   "metadata": {},
   "outputs": [],
   "source": [
    "# To compute a good representation, we want all attributes to be easily queryable;\n",
    "\n",
    "# X[K, d] -> W_enc -> x_vec[o] -> W_dec -> [K, N_c]"
   ]
  },
  {
   "cell_type": "code",
   "execution_count": 31,
   "metadata": {},
   "outputs": [
    {
     "data": {
      "text/plain": [
       "tensor([9])"
      ]
     },
     "execution_count": 31,
     "metadata": {},
     "output_type": "execute_result"
    }
   ],
   "source": [
    "import random\n",
    "\n",
    "random.choice(concept_dict['shape'])\n",
    "encoder.encode('circle')"
   ]
  },
  {
   "cell_type": "code",
   "execution_count": 48,
   "metadata": {},
   "outputs": [],
   "source": [
    "N = 500\n",
    "objects = []\n",
    "for i in range(N):\n",
    "    obj = []\n",
    "    for ck in concept_dict:\n",
    "        cv = random.choice(concept_dict[ck])\n",
    "        c_id = encoder.encode(cv)\n",
    "        obj.append(c_id)\n",
    "    objects.append(torch.cat(obj))\n",
    "    \n",
    "y = torch.stack(objects)\n",
    "X = embedding_weights[y]"
   ]
  },
  {
   "cell_type": "code",
   "execution_count": 50,
   "metadata": {},
   "outputs": [
    {
     "data": {
      "text/plain": [
       "torch.Size([3, 100])"
      ]
     },
     "execution_count": 50,
     "metadata": {},
     "output_type": "execute_result"
    }
   ],
   "source": [
    "ds = torch.utils.data.TensorDataset(X, y)\n",
    "for e in range(10):\n",
    "    for i, s in torch.utils.data.DataLoader(ds, batch_size=32, shuffle=True):\n",
    "        "
   ]
  },
  {
   "cell_type": "code",
   "execution_count": null,
   "metadata": {},
   "outputs": [],
   "source": [
    "d = \n",
    "torch.nn.Sequential(\n",
    "    nn.Linear()\n",
    ")"
   ]
  }
 ],
 "metadata": {
  "kernelspec": {
   "display_name": "curriculum_vqa",
   "language": "python",
   "name": "curriculum_vqa"
  },
  "language_info": {
   "codemirror_mode": {
    "name": "ipython",
    "version": 3
   },
   "file_extension": ".py",
   "mimetype": "text/x-python",
   "name": "python",
   "nbconvert_exporter": "python",
   "pygments_lexer": "ipython3",
   "version": "3.8.1"
  }
 },
 "nbformat": 4,
 "nbformat_minor": 4
}
