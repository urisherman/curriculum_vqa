{
 "cells": [
  {
   "cell_type": "code",
   "execution_count": 113,
   "metadata": {},
   "outputs": [
    {
     "name": "stdout",
     "output_type": "stream",
     "text": [
      "The autoreload extension is already loaded. To reload it, use:\n",
      "  %reload_ext autoreload\n"
     ]
    }
   ],
   "source": [
    "%load_ext autoreload\n",
    "%autoreload 2"
   ]
  },
  {
   "cell_type": "code",
   "execution_count": 111,
   "metadata": {},
   "outputs": [],
   "source": [
    "import numpy as np\n",
    "import torch\n",
    "import torch.nn as nn\n",
    "\n",
    "_include_('curriculum_vqa')\n",
    "_include_('commons')\n",
    "\n",
    "seed = 1\n",
    "np.random.seed(seed)\n",
    "torch.manual_seed(seed);\n",
    "\n",
    "from cvqa import datasets, model, trainer, viz\n",
    "from commons import debug\n",
    "\n",
    "data_bin = f'{DEV_HOME}/curriculum_vqa/data-bin'"
   ]
  },
  {
   "cell_type": "code",
   "execution_count": 112,
   "metadata": {},
   "outputs": [
    {
     "data": {
      "text/plain": [
       "1"
      ]
     },
     "execution_count": 112,
     "metadata": {},
     "output_type": "execute_result"
    }
   ],
   "source": [
    "np.random.randint(3)"
   ]
  },
  {
   "cell_type": "code",
   "execution_count": 49,
   "metadata": {},
   "outputs": [
    {
     "data": {
      "text/plain": [
       "Root: /Users/urisherman/Work/workspace/curriculum_vqa/data-bin/basic_curriculum/train \n",
       "Samples: 2000 (N_prompt=1, N_target=1)\n",
       "Concepts: 2 \n",
       "Classes: 5 \n",
       "Vocab Tokens:8"
      ]
     },
     "execution_count": 49,
     "metadata": {},
     "output_type": "execute_result"
    }
   ],
   "source": [
    "dataset = datasets.BasicCurriculum(f'{data_bin}/basic_curriculum', prompt_mode='concept', target_mode='class')\n",
    "dataset"
   ]
  },
  {
   "cell_type": "code",
   "execution_count": 50,
   "metadata": {},
   "outputs": [],
   "source": [
    "def build_embeddings(d, dataset, c=None):\n",
    "    if dataset.prompt_mode == 'natural' and dataset.target_mode == 'natural':\n",
    "        prompt_embeddings = nn.Embedding(len(dataset.vocab), d, padding_idx=0)\n",
    "        target_embeddings = prompt_embeddings\n",
    "    else:\n",
    "        if dataset.prompt_mode == 'natural':\n",
    "            V = len(dataset.vocab)\n",
    "        else:\n",
    "            V = len(dataset.concept_to_idx)\n",
    "\n",
    "        if dataset.target_mode == 'natural':\n",
    "            L = len(dataset.vocab)\n",
    "        else:\n",
    "            L = len(dataset.cls_to_idx)\n",
    "        \n",
    "        if c is None:\n",
    "            c = d\n",
    "            \n",
    "        prompt_embeddings = nn.Embedding(V, d, padding_idx=0)\n",
    "        target_embeddings = nn.Embedding(L, c, padding_idx=0)\n",
    "    \n",
    "    return prompt_embeddings, target_embeddings"
   ]
  },
  {
   "cell_type": "code",
   "execution_count": 102,
   "metadata": {},
   "outputs": [],
   "source": [
    "import torch.nn.functional as F\n",
    "import math\n",
    "\n",
    "class VQAPromptOpModel(nn.Module):\n",
    "\n",
    "    def __init__(self, prompt_embedding, target_embedding, img_perceptor=None):\n",
    "        super().__init__()\n",
    "\n",
    "        if img_perceptor is None:\n",
    "            img_perceptor = model.BasicImgModel(20)\n",
    "        self.img_perceptor = img_perceptor\n",
    "        img_embedding = img_perceptor(torch.rand(1, 3, 224, 224))\n",
    "        B, P = img_embedding.shape\n",
    "\n",
    "        from torch.nn import TransformerEncoder, TransformerEncoderLayer\n",
    "        dims = {\n",
    "            'P': P,  # perception embedding dim\n",
    "            'V': prompt_embedding.num_embeddings,  # num of prompt tokens\n",
    "            'd': prompt_embedding.embedding_dim,  # prompt tokens embedding\n",
    "            'L': target_embedding.num_embeddings,  # num of target toekns\n",
    "            'c': target_embedding.embedding_dim  # target tokens embedding\n",
    "        }\n",
    "        self.dims = dims\n",
    "        self.prompt_embedding = prompt_embedding\n",
    "        self.target_embedding = target_embedding\n",
    "\n",
    "        # The operators operator\n",
    "        # Given an embedded prompt, output a P --> c operator\n",
    "        self.W_op = nn.Parameter(torch.Tensor(dims['P'], dims['d'], dims['c']))\n",
    "        nn.init.kaiming_uniform_(self.W_op, a=math.sqrt(5))\n",
    "        \n",
    "    def forward(self, prompt, img):\n",
    "        if len(prompt.shape) == 1:\n",
    "            prompt = prompt.view(-1, 1)\n",
    "        prompt_encoded = self.prompt_embedding(prompt)  #  [B x N_prompt x d]\n",
    "        prompt_encoded = torch.sum(prompt_encoded, dim=1)  #  [B x d]\n",
    "        prompt_op = torch.einsum('pdc,bd->pc', self.W_op, prompt_encoded)  #  [P x c]\n",
    "        \n",
    "        img_features = self.img_perceptor(img)  # [B, P]\n",
    "        \n",
    "        pred_embeded = F.linear(img_features, prompt_op.T)\n",
    "        \n",
    "        t_embeddings = self.target_embedding.weight\n",
    "        logits = pred_embeded @ t_embeddings.T\n",
    "        return logits"
   ]
  },
  {
   "cell_type": "code",
   "execution_count": 108,
   "metadata": {},
   "outputs": [
    {
     "data": {
      "text/plain": [
       "torch.Size([32, 16])"
      ]
     },
     "execution_count": 108,
     "metadata": {},
     "output_type": "execute_result"
    }
   ],
   "source": [
    "dataset = datasets.BasicCurriculum(f'{data_bin}/basic_curriculum', prompt_mode='concept', target_mode='natural')\n",
    "prompt_embeddings, target_embeddings = build_embeddings(12, dataset)\n",
    "\n",
    "dataloader = torch.utils.data.DataLoader(dataset, batch_size=32)\n",
    "sample = next(iter(dataloader))\n",
    "\n",
    "m = VQAPromptOpModel(prompt_embeddings, target_embeddings)\n",
    "m(sample['prompt'], sample['img']).shape"
   ]
  },
  {
   "cell_type": "code",
   "execution_count": 109,
   "metadata": {},
   "outputs": [
    {
     "data": {
      "text/plain": [
       "Root: /Users/urisherman/Work/workspace/curriculum_vqa/data-bin/basic_curriculum/train \n",
       "Samples: 2000 (N_prompt=1, N_target=2)\n",
       "Concepts: 2 \n",
       "Classes: 0 \n",
       "Vocab Tokens:16"
      ]
     },
     "execution_count": 109,
     "metadata": {},
     "output_type": "execute_result"
    }
   ],
   "source": [
    "dataset"
   ]
  },
  {
   "cell_type": "code",
   "execution_count": 66,
   "metadata": {},
   "outputs": [
    {
     "data": {
      "text/plain": [
       "torch.Size([32, 1])"
      ]
     },
     "execution_count": 66,
     "metadata": {},
     "output_type": "execute_result"
    }
   ],
   "source": [
    "prompt = sample['prompt']\n",
    "if len(prompt.shape) == 1:\n",
    "    prompt = prompt.view(-1, 1)\n"
   ]
  },
  {
   "cell_type": "code",
   "execution_count": 40,
   "metadata": {},
   "outputs": [
    {
     "data": {
      "text/plain": [
       "torch.Size([32, 12])"
      ]
     },
     "execution_count": 40,
     "metadata": {},
     "output_type": "execute_result"
    }
   ],
   "source": [
    "torch.sum(prompt_encoded, dim=1).shape"
   ]
  },
  {
   "cell_type": "code",
   "execution_count": 45,
   "metadata": {},
   "outputs": [],
   "source": [
    "B = 32\n",
    "P = 50\n",
    "d = 12\n",
    "c = 7\n",
    "\n",
    "W_op = torch.rand(P, d, c)\n",
    "prompt_encoded = torch.rand(B, d)"
   ]
  },
  {
   "cell_type": "code",
   "execution_count": 46,
   "metadata": {},
   "outputs": [
    {
     "data": {
      "text/plain": [
       "torch.Size([50, 32, 7])"
      ]
     },
     "execution_count": 46,
     "metadata": {},
     "output_type": "execute_result"
    }
   ],
   "source": [
    "(prompt_encoded @ W_op).shape"
   ]
  },
  {
   "cell_type": "code",
   "execution_count": 79,
   "metadata": {},
   "outputs": [
    {
     "data": {
      "text/plain": [
       "torch.Size([50, 7])"
      ]
     },
     "execution_count": 79,
     "metadata": {},
     "output_type": "execute_result"
    }
   ],
   "source": [
    "torch.einsum('pdc,bd->pc', W_op, prompt_encoded).shape"
   ]
  },
  {
   "cell_type": "code",
   "execution_count": null,
   "metadata": {},
   "outputs": [],
   "source": []
  },
  {
   "cell_type": "code",
   "execution_count": null,
   "metadata": {},
   "outputs": [],
   "source": []
  },
  {
   "cell_type": "code",
   "execution_count": 87,
   "metadata": {},
   "outputs": [
    {
     "data": {
      "text/plain": [
       "torch.Size([32, 5])"
      ]
     },
     "execution_count": 87,
     "metadata": {},
     "output_type": "execute_result"
    }
   ],
   "source": [
    "F.linear(torch.rand(32, 12), torch.rand(5, 12)).shape"
   ]
  },
  {
   "cell_type": "code",
   "execution_count": 83,
   "metadata": {},
   "outputs": [
    {
     "data": {
      "text/plain": [
       "tensor([[0.9478, 0.6311, 0.7709],\n",
       "        [0.4816, 0.2015, 0.6500],\n",
       "        [0.4756, 0.6817, 0.9979],\n",
       "        [0.3623, 0.7724, 0.7350],\n",
       "        [0.5531, 0.3633, 0.6443]])"
      ]
     },
     "execution_count": 83,
     "metadata": {},
     "output_type": "execute_result"
    }
   ],
   "source": [
    "torch.rand(3,5).T"
   ]
  },
  {
   "cell_type": "code",
   "execution_count": null,
   "metadata": {},
   "outputs": [],
   "source": []
  }
 ],
 "metadata": {
  "kernelspec": {
   "display_name": "curriculum_vqa",
   "language": "python",
   "name": "curriculum_vqa"
  },
  "language_info": {
   "codemirror_mode": {
    "name": "ipython",
    "version": 3
   },
   "file_extension": ".py",
   "mimetype": "text/x-python",
   "name": "python",
   "nbconvert_exporter": "python",
   "pygments_lexer": "ipython3",
   "version": "3.8.1"
  }
 },
 "nbformat": 4,
 "nbformat_minor": 4
}
