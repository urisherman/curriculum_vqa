{
 "cells": [
  {
   "cell_type": "code",
   "execution_count": 31,
   "metadata": {},
   "outputs": [],
   "source": [
    "import numpy as np\n",
    "import torch\n",
    "import torch.nn as nn\n",
    "import torch.nn.functional as F\n",
    "\n",
    "import matplotlib.pyplot as plt"
   ]
  },
  {
   "cell_type": "code",
   "execution_count": 38,
   "metadata": {},
   "outputs": [
    {
     "name": "stdout",
     "output_type": "stream",
     "text": [
      "tensor([[1., 1., 1., 1., 1., 1., 1.],\n",
      "        [1., 1., 1., 1., 1., 1., 1.]])\n"
     ]
    },
    {
     "data": {
      "text/plain": [
       "1.0"
      ]
     },
     "execution_count": 38,
     "metadata": {},
     "output_type": "execute_result"
    }
   ],
   "source": [
    "print(torch.ones(2, 7))\n",
    "1e+0"
   ]
  },
  {
   "cell_type": "markdown",
   "metadata": {},
   "source": [
    "## Concatenation"
   ]
  },
  {
   "cell_type": "code",
   "execution_count": 7,
   "metadata": {},
   "outputs": [
    {
     "data": {
      "text/plain": [
       "tensor([[0.5675, 0.5039, 0.4418, 0.1629, 0.3112],\n",
       "        [0.8141, 0.6419, 0.3275, 0.4045, 0.1408],\n",
       "        [0.4744, 0.1197, 0.9998, 0.0170, 0.7158],\n",
       "        [0.5859, 0.9107, 0.8488, 0.5436, 0.5333],\n",
       "        [0.1011, 0.6708, 0.9191, 0.3524, 0.9563]])"
      ]
     },
     "execution_count": 7,
     "metadata": {},
     "output_type": "execute_result"
    }
   ],
   "source": [
    "torch.cat([\n",
    "    torch.rand(5, 2),\n",
    "    torch.rand(5, 3),\n",
    "], dim=1)"
   ]
  },
  {
   "cell_type": "code",
   "execution_count": 8,
   "metadata": {},
   "outputs": [
    {
     "data": {
      "text/plain": [
       "tensor([[0.3274, 0.1722, 0.4212, 0.7676, 0.8764],\n",
       "        [0.7686, 0.4081, 0.1553, 0.3131, 0.0148]])"
      ]
     },
     "execution_count": 8,
     "metadata": {},
     "output_type": "execute_result"
    }
   ],
   "source": [
    "torch.stack([\n",
    "    torch.rand(5),\n",
    "    torch.rand(5)\n",
    "])"
   ]
  },
  {
   "cell_type": "code",
   "execution_count": 9,
   "metadata": {},
   "outputs": [
    {
     "data": {
      "text/plain": [
       "tensor([0., 1., 1., 1., 1., 1., 0., 0., 0.])"
      ]
     },
     "execution_count": 9,
     "metadata": {},
     "output_type": "execute_result"
    }
   ],
   "source": [
    "x = torch.ones(5)\n",
    "\n",
    "F.pad(x, (1, 3), value=0)"
   ]
  },
  {
   "cell_type": "code",
   "execution_count": 10,
   "metadata": {},
   "outputs": [
    {
     "data": {
      "text/plain": [
       "tensor([[1., 1., 1.],\n",
       "        [1., 1., 1.],\n",
       "        [1., 1., 1.],\n",
       "        [1., 1., 1.],\n",
       "        [1., 1., 1.],\n",
       "        [0., 0., 0.],\n",
       "        [0., 0., 0.],\n",
       "        [0., 0., 0.]])"
      ]
     },
     "execution_count": 10,
     "metadata": {},
     "output_type": "execute_result"
    }
   ],
   "source": [
    "x = torch.ones(5,3)\n",
    "\n",
    "F.pad(x, (0, 0, 0, 3), value=0)"
   ]
  },
  {
   "cell_type": "code",
   "execution_count": null,
   "metadata": {},
   "outputs": [],
   "source": []
  },
  {
   "cell_type": "markdown",
   "metadata": {},
   "source": [
    "## Repetition"
   ]
  },
  {
   "cell_type": "code",
   "execution_count": 11,
   "metadata": {},
   "outputs": [
    {
     "data": {
      "text/plain": [
       "tensor([[ 0.9646,  1.0293, -0.6468],\n",
       "        [ 0.7897,  0.9707,  1.1779]])"
      ]
     },
     "execution_count": 11,
     "metadata": {},
     "output_type": "execute_result"
    }
   ],
   "source": [
    "a = torch.randn(2,3)\n",
    "a.repeat(1, 1)"
   ]
  },
  {
   "cell_type": "code",
   "execution_count": 12,
   "metadata": {},
   "outputs": [
    {
     "data": {
      "text/plain": [
       "tensor([[[ 0.9646,  1.0293, -0.6468],\n",
       "         [ 0.7897,  0.9707,  1.1779]],\n",
       "\n",
       "        [[ 0.9646,  1.0293, -0.6468],\n",
       "         [ 0.7897,  0.9707,  1.1779]],\n",
       "\n",
       "        [[ 0.9646,  1.0293, -0.6468],\n",
       "         [ 0.7897,  0.9707,  1.1779]]])"
      ]
     },
     "execution_count": 12,
     "metadata": {},
     "output_type": "execute_result"
    }
   ],
   "source": [
    "a.repeat(3, 1, 1)"
   ]
  },
  {
   "cell_type": "markdown",
   "metadata": {},
   "source": [
    "## Randoms"
   ]
  },
  {
   "cell_type": "code",
   "execution_count": 13,
   "metadata": {},
   "outputs": [
    {
     "data": {
      "text/plain": [
       "tensor([0, 1, 0, 0, 0])"
      ]
     },
     "execution_count": 13,
     "metadata": {},
     "output_type": "execute_result"
    }
   ],
   "source": [
    "torch.randint(0, 2, size=[5])"
   ]
  },
  {
   "cell_type": "code",
   "execution_count": 14,
   "metadata": {},
   "outputs": [
    {
     "data": {
      "text/plain": [
       "array([16, 28, 35, 36, 30])"
      ]
     },
     "execution_count": 14,
     "metadata": {},
     "output_type": "execute_result"
    }
   ],
   "source": [
    "np.random.choice(40, 5, replace=False)"
   ]
  },
  {
   "cell_type": "markdown",
   "metadata": {},
   "source": [
    "## Matmul"
   ]
  },
  {
   "cell_type": "markdown",
   "metadata": {},
   "source": [
    "### MultiOp * batch of vectors "
   ]
  },
  {
   "cell_type": "code",
   "execution_count": 15,
   "metadata": {},
   "outputs": [
    {
     "data": {
      "text/plain": [
       "tensor([[[1., 0., 0., 0.],\n",
       "         [0., 1., 0., 0.],\n",
       "         [0., 0., 1., 0.],\n",
       "         [0., 0., 0., 1.],\n",
       "         [0., 0., 0., 0.],\n",
       "         [0., 0., 0., 0.],\n",
       "         [0., 0., 0., 0.],\n",
       "         [0., 0., 0., 0.]],\n",
       "\n",
       "        [[2., 0., 0., 0.],\n",
       "         [0., 2., 0., 0.],\n",
       "         [0., 0., 2., 0.],\n",
       "         [0., 0., 0., 2.],\n",
       "         [0., 0., 0., 0.],\n",
       "         [0., 0., 0., 0.],\n",
       "         [0., 0., 0., 0.],\n",
       "         [0., 0., 0., 0.]],\n",
       "\n",
       "        [[3., 0., 0., 0.],\n",
       "         [0., 3., 0., 0.],\n",
       "         [0., 0., 3., 0.],\n",
       "         [0., 0., 0., 3.],\n",
       "         [0., 0., 0., 0.],\n",
       "         [0., 0., 0., 0.],\n",
       "         [0., 0., 0., 0.],\n",
       "         [0., 0., 0., 0.]]])"
      ]
     },
     "execution_count": 15,
     "metadata": {},
     "output_type": "execute_result"
    }
   ],
   "source": [
    "B = 5\n",
    "N_ops, d_in, d_out = 3, 8, 4\n",
    "\n",
    "WW = torch.zeros(N_ops, d_in, d_out)\n",
    "WW[0, range(d_out), range(d_out)] = 1\n",
    "WW[1, range(d_out), range(d_out)] = 2\n",
    "WW[2, range(d_out), range(d_out)] = 3\n",
    "\n",
    "WW"
   ]
  },
  {
   "cell_type": "code",
   "execution_count": 16,
   "metadata": {},
   "outputs": [
    {
     "data": {
      "text/plain": [
       "tensor([[1., 1., 1., 1., 1., 1., 1., 1.],\n",
       "        [1., 1., 1., 1., 1., 1., 1., 1.],\n",
       "        [1., 1., 1., 1., 1., 1., 1., 1.],\n",
       "        [1., 1., 1., 1., 1., 1., 1., 1.],\n",
       "        [1., 1., 1., 1., 1., 1., 1., 1.]])"
      ]
     },
     "execution_count": 16,
     "metadata": {},
     "output_type": "execute_result"
    }
   ],
   "source": [
    "X_input = torch.ones(B, d_in)\n",
    "X_input"
   ]
  },
  {
   "cell_type": "code",
   "execution_count": 17,
   "metadata": {},
   "outputs": [
    {
     "data": {
      "text/plain": [
       "tensor([[[1., 1., 1., 1.],\n",
       "         [2., 2., 2., 2.],\n",
       "         [3., 3., 3., 3.]],\n",
       "\n",
       "        [[1., 1., 1., 1.],\n",
       "         [2., 2., 2., 2.],\n",
       "         [3., 3., 3., 3.]],\n",
       "\n",
       "        [[1., 1., 1., 1.],\n",
       "         [2., 2., 2., 2.],\n",
       "         [3., 3., 3., 3.]],\n",
       "\n",
       "        [[1., 1., 1., 1.],\n",
       "         [2., 2., 2., 2.],\n",
       "         [3., 3., 3., 3.]],\n",
       "\n",
       "        [[1., 1., 1., 1.],\n",
       "         [2., 2., 2., 2.],\n",
       "         [3., 3., 3., 3.]]])"
      ]
     },
     "execution_count": 17,
     "metadata": {},
     "output_type": "execute_result"
    }
   ],
   "source": [
    "torch.matmul(\n",
    "    X_input,  # [B, d_in]\n",
    "    WW        # [N_ops, d_in, d_out]\n",
    ").transpose(0, 1) # [B, N_ops, d_out]"
   ]
  },
  {
   "cell_type": "markdown",
   "metadata": {},
   "source": [
    "### Operator per vector in batch"
   ]
  },
  {
   "cell_type": "code",
   "execution_count": 18,
   "metadata": {},
   "outputs": [
    {
     "data": {
      "text/plain": [
       "tensor([[1., 1., 1., 1., 1., 1., 1., 1.],\n",
       "        [1., 1., 1., 1., 1., 1., 1., 1.],\n",
       "        [1., 1., 1., 1., 1., 1., 1., 1.]])"
      ]
     },
     "execution_count": 18,
     "metadata": {},
     "output_type": "execute_result"
    }
   ],
   "source": [
    "B = N_ops\n",
    "X_input = torch.ones(B, d_in)\n",
    "X_input"
   ]
  },
  {
   "cell_type": "code",
   "execution_count": 19,
   "metadata": {},
   "outputs": [
    {
     "data": {
      "text/plain": [
       "tensor([[1., 1., 1., 1.],\n",
       "        [2., 2., 2., 2.],\n",
       "        [3., 3., 3., 3.]])"
      ]
     },
     "execution_count": 19,
     "metadata": {},
     "output_type": "execute_result"
    }
   ],
   "source": [
    "torch.matmul(\n",
    "    X_input.unsqueeze(1), \n",
    "    WW\n",
    ").squeeze(1)"
   ]
  },
  {
   "cell_type": "markdown",
   "metadata": {},
   "source": [
    "### Vectors dot product per vector in batch"
   ]
  },
  {
   "cell_type": "code",
   "execution_count": 20,
   "metadata": {},
   "outputs": [
    {
     "data": {
      "text/plain": [
       "tensor([[1., 1., 1., 1., 1., 1., 1., 1.],\n",
       "        [2., 2., 2., 2., 2., 2., 2., 2.],\n",
       "        [3., 3., 3., 3., 3., 3., 3., 3.]])"
      ]
     },
     "execution_count": 20,
     "metadata": {},
     "output_type": "execute_result"
    }
   ],
   "source": [
    "WW = torch.zeros(N_ops, d_in)\n",
    "WW[0, :] = 1\n",
    "WW[1, :] = 2\n",
    "WW[2, :] = 3\n",
    "\n",
    "WW"
   ]
  },
  {
   "cell_type": "code",
   "execution_count": 25,
   "metadata": {},
   "outputs": [
    {
     "data": {
      "text/plain": [
       "tensor([[[1., 1., 1., 1., 1., 1., 1., 1.],\n",
       "         [1., 1., 1., 1., 1., 1., 1., 1.]],\n",
       "\n",
       "        [[1., 1., 1., 1., 1., 1., 1., 1.],\n",
       "         [1., 1., 1., 1., 1., 1., 1., 1.]],\n",
       "\n",
       "        [[1., 1., 1., 1., 1., 1., 1., 1.],\n",
       "         [1., 1., 1., 1., 1., 1., 1., 1.]]])"
      ]
     },
     "execution_count": 25,
     "metadata": {},
     "output_type": "execute_result"
    }
   ],
   "source": [
    "X_input = torch.ones(B, 2, d_in)\n",
    "X_input"
   ]
  },
  {
   "cell_type": "code",
   "execution_count": 30,
   "metadata": {},
   "outputs": [
    {
     "data": {
      "text/plain": [
       "torch.Size([3, 2, 1])"
      ]
     },
     "execution_count": 30,
     "metadata": {},
     "output_type": "execute_result"
    }
   ],
   "source": [
    "torch.matmul(\n",
    "    X_input, \n",
    "    WW.unsqueeze(2)\n",
    ").shape"
   ]
  },
  {
   "cell_type": "code",
   "execution_count": null,
   "metadata": {},
   "outputs": [],
   "source": []
  },
  {
   "cell_type": "code",
   "execution_count": null,
   "metadata": {},
   "outputs": [],
   "source": []
  },
  {
   "cell_type": "code",
   "execution_count": null,
   "metadata": {},
   "outputs": [],
   "source": []
  },
  {
   "cell_type": "code",
   "execution_count": null,
   "metadata": {},
   "outputs": [],
   "source": []
  },
  {
   "cell_type": "markdown",
   "metadata": {},
   "source": [
    "## Misc"
   ]
  },
  {
   "cell_type": "code",
   "execution_count": 195,
   "metadata": {},
   "outputs": [
    {
     "data": {
      "text/plain": [
       "tensor([[1.2926, 1.0000, 1.0000, 1.3878, 1.1070],\n",
       "        [1.1045, 1.2851, 1.3022, 1.0000, 1.0170],\n",
       "        [1.1913, 1.3129, 1.2207, 1.0000, 1.3773]])"
      ]
     },
     "execution_count": 195,
     "metadata": {},
     "output_type": "execute_result"
    }
   ],
   "source": [
    "t, _ = torch.max(torch.ones(2,3,5), torch.rand(2,3,5)+.5)\n",
    "t"
   ]
  },
  {
   "cell_type": "code",
   "execution_count": 211,
   "metadata": {},
   "outputs": [
    {
     "data": {
      "text/plain": [
       "tensor([[[0.1551, 0.9172, 0.9931, 0.6603, 0.2963]],\n",
       "\n",
       "        [[0.3798, 0.2434, 0.7848, 0.7287, 0.1547]]])"
      ]
     },
     "execution_count": 211,
     "metadata": {},
     "output_type": "execute_result"
    }
   ],
   "source": [
    "a = torch.rand(2, 1 ,5)\n",
    "a"
   ]
  },
  {
   "cell_type": "code",
   "execution_count": 214,
   "metadata": {},
   "outputs": [
    {
     "data": {
      "text/plain": [
       "tensor([[[0.1551, 0.9172, 0.9931, 0.6603, 0.2963],\n",
       "         [0.1551, 0.9172, 0.9931, 0.6603, 0.2963],\n",
       "         [0.1551, 0.9172, 0.9931, 0.6603, 0.2963],\n",
       "         [0.1551, 0.9172, 0.9931, 0.6603, 0.2963],\n",
       "         [0.1551, 0.9172, 0.9931, 0.6603, 0.2963],\n",
       "         [0.1551, 0.9172, 0.9931, 0.6603, 0.2963]],\n",
       "\n",
       "        [[0.3798, 0.2434, 0.7848, 0.7287, 0.1547],\n",
       "         [0.3798, 0.2434, 0.7848, 0.7287, 0.1547],\n",
       "         [0.3798, 0.2434, 0.7848, 0.7287, 0.1547],\n",
       "         [0.3798, 0.2434, 0.7848, 0.7287, 0.1547],\n",
       "         [0.3798, 0.2434, 0.7848, 0.7287, 0.1547],\n",
       "         [0.3798, 0.2434, 0.7848, 0.7287, 0.1547]]])"
      ]
     },
     "execution_count": 214,
     "metadata": {},
     "output_type": "execute_result"
    }
   ],
   "source": [
    "torch.ones(6, 5) * a"
   ]
  },
  {
   "cell_type": "markdown",
   "metadata": {},
   "source": [
    "# Experiments"
   ]
  },
  {
   "cell_type": "code",
   "execution_count": 140,
   "metadata": {},
   "outputs": [],
   "source": [
    "import torch.nn as nn\n",
    "import torch.nn.functional as F\n",
    "from torch.utils.tensorboard import SummaryWriter\n",
    "from datetime import datetime\n",
    "\n",
    "class SimpleModel(nn.Module):\n",
    "    \n",
    "    def __init__(self, d, N_t, h=200):\n",
    "        super().__init__()\n",
    "        self.W1 = nn.Linear(d, h)\n",
    "        self.W2 = nn.Linear(h, 2)\n",
    "        self.E = nn.Embedding(N_t, d)\n",
    "        self.layer_norm = nn.LayerNorm(h)\n",
    "        \n",
    "    def forward(self, x, x_tokens):\n",
    "        x_t_embed = self.E(x_tokens)  # [B, 5, d]\n",
    "        x_t_embed = x_t_embed.sum(axis=1)\n",
    "        \n",
    "        x_t = self.W1(x_t_embed)\n",
    "        \n",
    "        x = self.W1(x) + x_t\n",
    "        x = self.layer_norm(x)\n",
    "        \n",
    "        x = F.relu(x)\n",
    "        x = self.W2(x)\n",
    "        return x\n",
    "\n",
    "    \n",
    "N = 100\n",
    "N_t = 10\n",
    "d = 10\n",
    "\n",
    "X = torch.rand(N, d)\n",
    "X_tokens = torch.randint(N_t, size=[N, 5])\n",
    "y = torch.randint(0, 2, size=[N])\n",
    "\n",
    "\n",
    "\n",
    "####\n",
    "writer = SummaryWriter(f'runs/tests/run-{datetime.now().strftime(\"%H-%M-%S\")}')\n",
    "\n",
    "model = SimpleModel(d, N_t)\n",
    "optimizer = torch.optim.Adam(model.parameters(), lr=3e-3)\n",
    "loss_fn = nn.CrossEntropyLoss()\n",
    "\n",
    "losses = []\n",
    "for i in range(1000):\n",
    "    batch_idxs = np.random.choice(N, 50, replace=False)\n",
    "    X_batch = X[batch_idxs, :]\n",
    "    X_t_batch = X_tokens[batch_idxs, :]\n",
    "    y_batch = y[batch_idxs]\n",
    "    \n",
    "    optimizer.zero_grad()\n",
    "    \n",
    "    logits = model(X_batch, X_t_batch)\n",
    "    loss = loss_fn(logits, y_batch)\n",
    "    loss.backward()\n",
    "    optimizer.step()\n",
    "    \n",
    "    losses.append(loss.item())\n",
    "    \n",
    "    if i % 100 == 0:\n",
    "        writer.add_scalar('Loss/train', loss.item(), i)\n",
    "        for tag, parm in model.named_parameters():\n",
    "            writer.add_histogram(tag, parm.grad.data.cpu().numpy(), i)"
   ]
  },
  {
   "cell_type": "code",
   "execution_count": 141,
   "metadata": {},
   "outputs": [
    {
     "data": {
      "image/png": "[encoded data removed]",
      "text/plain": [
       "<Figure size 432x288 with 1 Axes>"
      ]
     },
     "metadata": {
      "needs_background": "light"
     },
     "output_type": "display_data"
    }
   ],
   "source": [
    "plt.plot(losses);"
   ]
  },
  {
   "cell_type": "code",
   "execution_count": null,
   "metadata": {},
   "outputs": [],
   "source": []
  },
  {
   "cell_type": "markdown",
   "metadata": {},
   "source": [
    "## Datasets"
   ]
  },
  {
   "cell_type": "code",
   "execution_count": 209,
   "metadata": {},
   "outputs": [],
   "source": [
    "class MyDataset(torch.utils.data.Dataset):\n",
    "    \n",
    "    def __init__(self, samples):\n",
    "        self.samples = samples\n",
    "    \n",
    "    def __len__(self):\n",
    "        return len(self.samples)\n",
    "    \n",
    "    def __getitem__(self, i):\n",
    "        y = torch.rand(7, 3)\n",
    "        return {\n",
    "            'x': self.samples[i],\n",
    "            'y': {\n",
    "                'yy': y,\n",
    "                'zz': y\n",
    "            }\n",
    "        }\n",
    "        \n",
    "        \n",
    "X = torch.rand(10, 5)\n",
    "ds = MyDataset(X)\n",
    "\n",
    "# next(iter(torch.utils.data.DataLoader(ds, batch_size=3)))"
   ]
  }
 ],
 "metadata": {
  "kernelspec": {
   "display_name": "curriculum_vqa",
   "language": "python",
   "name": "curriculum_vqa"
  },
  "language_info": {
   "codemirror_mode": {
    "name": "ipython",
    "version": 3
   },
   "file_extension": ".py",
   "mimetype": "text/x-python",
   "name": "python",
   "nbconvert_exporter": "python",
   "pygments_lexer": "ipython3",
   "version": "3.8.1"
  }
 },
 "nbformat": 4,
 "nbformat_minor": 4
}
