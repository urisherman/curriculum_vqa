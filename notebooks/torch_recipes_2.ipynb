{
 "cells": [
  {
   "cell_type": "code",
   "execution_count": 119,
   "metadata": {},
   "outputs": [],
   "source": [
    "import numpy as np\n",
    "import torch\n",
    "import torch.nn as nn\n",
    "import torch.nn.functional as F\n",
    "\n",
    "import matplotlib.pyplot as plt"
   ]
  },
  {
   "cell_type": "code",
   "execution_count": 120,
   "metadata": {},
   "outputs": [
    {
     "data": {
      "text/plain": [
       "tensor([[0.8495, 0.7697, 0.5000],\n",
       "        [0.9750, 0.5000, 0.9959],\n",
       "        [0.7585, 0.6064, 0.7909],\n",
       "        [0.5000, 0.7488, 0.5000]])"
      ]
     },
     "execution_count": 120,
     "metadata": {},
     "output_type": "execute_result"
    }
   ],
   "source": [
    "a = torch.ones(4, 3, 2, 1)\n",
    "x = torch.rand(4, 3)\n",
    "p = torch.ones(4)*.5\n",
    "\n",
    "# p.unsqueeze(1)*torch.ones_like(x)\n",
    "torch.max(x, p.unsqueeze(1))"
   ]
  },
  {
   "cell_type": "code",
   "execution_count": 121,
   "metadata": {},
   "outputs": [
    {
     "data": {
      "text/plain": [
       "0.005"
      ]
     },
     "execution_count": 121,
     "metadata": {},
     "output_type": "execute_result"
    }
   ],
   "source": [
    "5e-3"
   ]
  },
  {
   "cell_type": "code",
   "execution_count": 146,
   "metadata": {},
   "outputs": [
    {
     "data": {
      "image/png": "[encoded data removed]",
      "text/plain": [
       "<Figure size 432x288 with 1 Axes>"
      ]
     },
     "metadata": {
      "needs_background": "light"
     },
     "output_type": "display_data"
    }
   ],
   "source": [
    "x = np.linspace(-30, 100)\n",
    "\n",
    "y = 1 - 90*x + (x)**2\n",
    "plt.plot(x, y);"
   ]
  },
  {
   "cell_type": "code",
   "execution_count": 91,
   "metadata": {},
   "outputs": [
    {
     "data": {
      "text/plain": [
       "0.0001"
      ]
     },
     "execution_count": 91,
     "metadata": {},
     "output_type": "execute_result"
    }
   ],
   "source": [
    "1e-4"
   ]
  },
  {
   "cell_type": "code",
   "execution_count": 63,
   "metadata": {},
   "outputs": [
    {
     "data": {
      "text/plain": [
       "tensor([0.7270, 0.8287, 0.2592, 0.9891])"
      ]
     },
     "execution_count": 63,
     "metadata": {},
     "output_type": "execute_result"
    }
   ],
   "source": [
    "y = torch.rand(4)\n",
    "y"
   ]
  },
  {
   "cell_type": "code",
   "execution_count": 64,
   "metadata": {},
   "outputs": [
    {
     "data": {
      "text/plain": [
       "tensor([0.7270, 0.8287, 0.4027, 0.9891])"
      ]
     },
     "execution_count": 64,
     "metadata": {},
     "output_type": "execute_result"
    }
   ],
   "source": [
    "torch.max(x, y)"
   ]
  },
  {
   "cell_type": "code",
   "execution_count": 34,
   "metadata": {},
   "outputs": [
    {
     "data": {
      "text/plain": [
       "array([[[[-0.35380292, -1.32268708, -1.87304219, -0.27905692],\n",
       "         [-0.35380292, -1.32268708, -1.87304219, -0.27905692],\n",
       "         [-0.35380292, -1.32268708, -1.87304219, -0.27905692]],\n",
       "\n",
       "        [[-0.35380292, -1.32268708, -1.87304219, -0.27905692],\n",
       "         [-0.35380292, -1.32268708, -1.87304219, -0.27905692],\n",
       "         [-0.35380292, -1.32268708, -1.87304219, -0.27905692]]]])"
      ]
     },
     "execution_count": 34,
     "metadata": {},
     "output_type": "execute_result"
    }
   ],
   "source": [
    "a = np.ones([4, 3, 2, 1])\n",
    "x = np.random.randn(4)\n",
    "\n",
    "# np.tile(x, [3, 1])\n",
    "x*a.T"
   ]
  },
  {
   "cell_type": "code",
   "execution_count": 35,
   "metadata": {},
   "outputs": [
    {
     "data": {
      "text/plain": [
       "(1, 2, 3, 4)"
      ]
     },
     "execution_count": 35,
     "metadata": {},
     "output_type": "execute_result"
    }
   ],
   "source": [
    "a.T.shape"
   ]
  },
  {
   "cell_type": "code",
   "execution_count": 26,
   "metadata": {},
   "outputs": [
    {
     "data": {
      "text/plain": [
       "<torch.utils.data.dataset.TensorDataset at 0x12fddaa90>"
      ]
     },
     "execution_count": 26,
     "metadata": {},
     "output_type": "execute_result"
    }
   ],
   "source": [
    "class Model(nn.Module):\n",
    "    def __init__(self, d, a=5):\n",
    "        self.W = nn.Linear(d, a)\n",
    "    \n",
    "    def forward(self, X):\n",
    "        X = self.W(X)\n",
    "        return X\n",
    "    \n",
    "N = 1000\n",
    "d = 16\n",
    "a = 5\n",
    "\n",
    "X_all = torch.rand(N, d)-.5\n",
    "Y_all = torch.mm(X_all, torch.rand(d, a))\n",
    "\n",
    "h = torch.rand(a)\n",
    "Y_all = torch.mv(Y_all, h)\n",
    "Y_all = (Y_all > 0).int()\n",
    "\n",
    "batch_size = 32\n",
    "ds = torch.utils.data.TensorDataset(X_all, Y_all)\n",
    "dloader = torch.utils.data.DataLoader(ds, batch_size=32, shuffle=True)\n",
    "num_epochs = 10\n",
    "steps = N // batch_size\n",
    "\n",
    "model = Model(d)\n",
    "optimizer = torch.optim.Adam(model.parameters(), lr=1e-3)\n",
    "loss_fn \n",
    "with tqdm(total=epochs*steps) as pbar:\n",
    "    for X, Y in dloader:\n",
    "        pbar.update(1)\n",
    "        model(Y)"
   ]
  },
  {
   "cell_type": "code",
   "execution_count": null,
   "metadata": {},
   "outputs": [],
   "source": [
    "\n"
   ]
  }
 ],
 "metadata": {
  "kernelspec": {
   "display_name": "curriculum_vqa",
   "language": "python",
   "name": "curriculum_vqa"
  },
  "language_info": {
   "codemirror_mode": {
    "name": "ipython",
    "version": 3
   },
   "file_extension": ".py",
   "mimetype": "text/x-python",
   "name": "python",
   "nbconvert_exporter": "python",
   "pygments_lexer": "ipython3",
   "version": "3.8.1"
  }
 },
 "nbformat": 4,
 "nbformat_minor": 4
}
