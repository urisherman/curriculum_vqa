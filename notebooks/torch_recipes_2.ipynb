{
 "cells": [
  {
   "cell_type": "code",
   "execution_count": 2,
   "metadata": {},
   "outputs": [],
   "source": [
    "import numpy as np\n",
    "import torch\n",
    "import torch.nn as nn\n",
    "import torch.nn.functional as F\n",
    "\n",
    "import matplotlib.pyplot as plt"
   ]
  },
  {
   "cell_type": "code",
   "execution_count": 26,
   "metadata": {},
   "outputs": [
    {
     "data": {
      "text/plain": [
       "<torch.utils.data.dataset.TensorDataset at 0x12fddaa90>"
      ]
     },
     "execution_count": 26,
     "metadata": {},
     "output_type": "execute_result"
    }
   ],
   "source": [
    "class Model(nn.Module):\n",
    "    def __init__(self, d, a=5):\n",
    "        self.W = nn.Linear(d, a)\n",
    "    \n",
    "    def forward(self, X):\n",
    "        X = self.W(X)\n",
    "        return X\n",
    "    \n",
    "N = 1000\n",
    "d = 16\n",
    "a = 5\n",
    "\n",
    "X_all = torch.rand(N, d)-.5\n",
    "Y_all = torch.mm(X_all, torch.rand(d, a))\n",
    "\n",
    "h = torch.rand(a)\n",
    "Y_all = torch.mv(Y_all, h)\n",
    "Y_all = (Y_all > 0).int()\n",
    "\n",
    "batch_size = 32\n",
    "ds = torch.utils.data.TensorDataset(X_all, Y_all)\n",
    "dloader = torch.utils.data.DataLoader(ds, batch_size=32, shuffle=True)\n",
    "num_epochs = 10\n",
    "steps = N // batch_size\n",
    "\n",
    "model = Model(d)\n",
    "optimizer = torch.optim.Adam(model.parameters(), lr=1e-3)\n",
    "loss_fn \n",
    "with tqdm(total=epochs*steps) as pbar:\n",
    "    for X, Y in dloader:\n",
    "        pbar.update(1)\n",
    "        model(Y)"
   ]
  },
  {
   "cell_type": "code",
   "execution_count": null,
   "metadata": {},
   "outputs": [],
   "source": [
    "\n"
   ]
  }
 ],
 "metadata": {
  "kernelspec": {
   "display_name": "curriculum_vqa",
   "language": "python",
   "name": "curriculum_vqa"
  },
  "language_info": {
   "codemirror_mode": {
    "name": "ipython",
    "version": 3
   },
   "file_extension": ".py",
   "mimetype": "text/x-python",
   "name": "python",
   "nbconvert_exporter": "python",
   "pygments_lexer": "ipython3",
   "version": "3.8.1"
  }
 },
 "nbformat": 4,
 "nbformat_minor": 4
}
